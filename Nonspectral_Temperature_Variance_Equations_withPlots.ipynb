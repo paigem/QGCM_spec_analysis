{
 "cells": [
  {
   "cell_type": "markdown",
   "metadata": {},
   "source": [
    "# Temperature Variance Equations"
   ]
  },
  {
   "cell_type": "markdown",
   "metadata": {},
   "source": [
    "## Ocean mixed layer temperature evolution equation"
   ]
  },
  {
   "cell_type": "markdown",
   "metadata": {},
   "source": [
    "$$\n",
    "T_{mt} + \n",
    "\\underbrace{\\left( u_m T_m \\right)_x + \\left( v_m T_m \\right)_y}_\\text{horizontal temperature advection} -\n",
    "\\overbrace{\\frac{w_{ek} T_m}{H_m}}^\\text{vertical temperature advection}\n",
    "= \n",
    "\\underbrace{\\frac{F_0}{\\rho C_p H_m}}_\\text{heat flux into and out of ocean mixed layer} +\n",
    "\\overbrace{\\frac{F_m^{e+}}{\\rho C_p H_m}}^\\text{entrainment heat flux} +\n",
    "\\underbrace{K_2 \\nabla _H^2 T_m - K_4 \\nabla _H^4 T_m}_\\text{diffusion}\n",
    "$$"
   ]
  },
  {
   "cell_type": "markdown",
   "metadata": {},
   "source": [
    "where \n",
    "\n",
    "$$\n",
    "u_m = -\\frac{1}{f_0} p_{1y} + \\frac{1}{f_0 H_m} \\tau ^y,\n",
    "$$\n",
    "\n",
    "$$\n",
    "v_m = \\frac{1}{f_0} p_{1x} - \\frac{1}{f_0 H_m} \\tau ^x,\n",
    "$$\n",
    "\n",
    "$$\n",
    "w_{ek} = \\frac{1}{f_0} \\left( \\tau _x^y - \\tau _y^x \\right).\n",
    "$$\n",
    "\n"
   ]
  },
  {
   "cell_type": "markdown",
   "metadata": {},
   "source": [
    "## Multiply each term by T "
   ]
  },
  {
   "cell_type": "markdown",
   "metadata": {},
   "source": [
    "$$\n",
    "T_m T_{mt} + \n",
    "T_m \\left( u_m T_m \\right)_x + T_m \\left( v_m T_m \\right)_y -\n",
    "T_m \\frac{w_{ek} T_m}{H_m}\n",
    "= \n",
    "T_m \\frac{F_0}{\\rho C_p H_m} +\n",
    "T_m \\frac{F_m^{e+}}{\\rho C_p H_m} +\n",
    "T_m K_2 \\nabla _H^2 T_m - K_4 \\nabla _H^4 T_m\n",
    "$$"
   ]
  },
  {
   "cell_type": "markdown",
   "metadata": {},
   "source": [
    "## Integrate over the domain"
   ]
  },
  {
   "cell_type": "markdown",
   "metadata": {},
   "source": [
    "$$\n",
    "\\int T_m T_{mt} dA + \n",
    "\\int T_m \\left( u_m T_m \\right)_x dA + \n",
    "\\int T_m \\left( v_m T_m \\right)_y dA -\n",
    "\\int T_m \\frac{w_{ek} T_m}{H_m} dA\n",
    "= \n",
    "\\int T_m \\frac{F_0}{\\rho C_p H_m} dA +\n",
    "\\int T_m \\frac{F_m^{e+}}{\\rho C_p H_m} dA +\n",
    "\\int T_m K_2 \\nabla _H^2 T_m dA - \\int K_4 \\nabla _H^4 T_m dA\n",
    "$$"
   ]
  },
  {
   "cell_type": "markdown",
   "metadata": {},
   "source": [
    "### Expand $F_0$"
   ]
  },
  {
   "cell_type": "markdown",
   "metadata": {},
   "source": [
    "$$\n",
    "F_0 = -F_{\\lambda} - F_0^{\\uparrow} - F_m^{\\downarrow} - F_s\n",
    "$$"
   ]
  },
  {
   "cell_type": "markdown",
   "metadata": {},
   "source": [
    "where\n",
    "\n",
    "$$\n",
    "F_{\\lambda} = \\overline{F_{\\lambda}} + \\lambda (^o T_m - ^a T_m) \\rightarrow \\text{Sensible and latent heat} \n",
    "$$\n",
    "\n",
    "$$\n",
    "F_0^{\\uparrow} = \\overline{F_0^{\\uparrow}} + D_0^{\\uparrow} {^o} T_m \\rightarrow \\text{Oceanic radiative heat}\n",
    "$$\n",
    "\n",
    "$$\n",
    "F_m^{\\downarrow} = \\overline{F_m^{\\downarrow}} + D_m^{\\downarrow} {^a} T_m \\rightarrow \\text{Atmospheric radiative heat over ocean}\n",
    "$$\n",
    "\n",
    "$$\n",
    "F_s (y) = \\overline{F_s} + \\frac{F_s'}{2} \\sin \\left(\\frac{\\pi (y-y_0)}{^a Y} \\right)\\rightarrow \\text{Incoming shortwave solar radiation}\n",
    "$$"
   ]
  },
  {
   "cell_type": "markdown",
   "metadata": {},
   "source": [
    "## Write each flux term individually, and pull all terms to the LHS"
   ]
  },
  {
   "cell_type": "markdown",
   "metadata": {},
   "source": [
    "$$\n",
    "\\int T_m T_{mt} dA + \n",
    "\\overbrace{\\int T_m \\left( u_m T_m \\right)_x dA + \n",
    "\\int T_m \\left( v_m T_m \\right)_y dA}^\\text{Horizontal advection} -\n",
    "\\overbrace{\\int T_m \\frac{w_{ek} T_m}{H_m} dA}^\\text{Vertical advection} +\n",
    "\\overbrace{\\int T_m \\frac{F_{\\lambda}}{\\rho C_p H_m} dA}^\\text{Sensible and latent heat} +\n",
    "\\overbrace{\\int T_m \\frac{F_0 ^{\\uparrow}}{\\rho C_p H_m} dA}^\\text{Oceanic radiation} +\n",
    "\\underbrace{\\int T_m \\frac{F_m ^{\\downarrow}}{\\rho C_p H_m} dA}_\\text{Atmospheric radiation over ocean} +\n",
    "\\underbrace{\\int T_m \\frac{F_s}{\\rho C_p H_m} dA}_\\text{Incoming solar radiation} -\n",
    "\\underbrace{\\int T_m \\frac{F_m^{e+}}{\\rho C_p H_m} dA}_\\text{Entrainment heat flux} -\n",
    "\\underbrace{\\int T_m K_2 \\nabla _H^2 T_m dA + \\int K_4 \\nabla _H^4 T_m dA}_\\text{Diffusion}\n",
    "= 0\n",
    "$$"
   ]
  },
  {
   "cell_type": "markdown",
   "metadata": {},
   "source": [
    "## Plot all terms on same axes"
   ]
  },
  {
   "cell_type": "markdown",
   "metadata": {},
   "source": [
    "<img src=\"Journal_images/T_var_nonspec_allTerms_yr013.png\">"
   ]
  },
  {
   "cell_type": "markdown",
   "metadata": {},
   "source": [
    "## Sum all terms"
   ]
  },
  {
   "cell_type": "markdown",
   "metadata": {},
   "source": [
    "<img src=\"Journal_images/SumT_var_nonspec_allTerms_yr013.png\">"
   ]
  },
  {
   "cell_type": "markdown",
   "metadata": {},
   "source": [
    "## Cumulative sum of all terms"
   ]
  },
  {
   "cell_type": "markdown",
   "metadata": {},
   "source": [
    "<img src=\"Journal_images/CumSumT_var_nonspec_allTerms_yr013.png\">"
   ]
  },
  {
   "cell_type": "code",
   "execution_count": null,
   "metadata": {
    "collapsed": true
   },
   "outputs": [],
   "source": []
  }
 ],
 "metadata": {
  "kernelspec": {
   "display_name": "Python 3",
   "language": "python",
   "name": "python3"
  },
  "language_info": {
   "codemirror_mode": {
    "name": "ipython",
    "version": 3
   },
   "file_extension": ".py",
   "mimetype": "text/x-python",
   "name": "python",
   "nbconvert_exporter": "python",
   "pygments_lexer": "ipython3",
   "version": "3.6.1"
  }
 },
 "nbformat": 4,
 "nbformat_minor": 2
}
