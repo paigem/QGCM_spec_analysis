{
 "cells": [
  {
   "cell_type": "code",
   "execution_count": 38,
   "metadata": {
    "collapsed": true
   },
   "outputs": [],
   "source": [
    "%matplotlib inline\n",
    "\n",
    "import os\n",
    "from glob import glob\n",
    "import numpy as np\n",
    "import matplotlib.pyplot as plt\n",
    "\n",
    "from detrend_func import detrend_func\n",
    "from window_func import main as window_func\n",
    "\n",
    "import dask\n",
    "from distributed import Client, LocalCluster\n",
    "import dask.array as da\n",
    "\n",
    "import xarray as xr"
   ]
  },
  {
   "cell_type": "code",
   "execution_count": 39,
   "metadata": {
    "collapsed": true
   },
   "outputs": [],
   "source": [
    "# create a Dask Distributed cluster with one processor and as many\n",
    "# threads as cores\n",
    "cluster = LocalCluster(n_workers=1)\n",
    "client = Client(cluster)"
   ]
  },
  {
   "cell_type": "markdown",
   "metadata": {},
   "source": [
    "### Define constants to be used"
   ]
  },
  {
   "cell_type": "code",
   "execution_count": 40,
   "metadata": {
    "collapsed": true
   },
   "outputs": [],
   "source": [
    "dx = 5000. # meters\n",
    "dy = 5000. # meters\n",
    "dt = 1 # in days\n",
    "H = [350.0, 750.0, 2900.0]  # meters\n",
    "Htot = H[0] + H[1] + H[2]\n",
    "f0 = 9.37456*(10**(-5)) #1/s (Coriolis parameter)\n",
    "g = [.015, .0075]"
   ]
  },
  {
   "cell_type": "code",
   "execution_count": 41,
   "metadata": {
    "collapsed": true
   },
   "outputs": [],
   "source": [
    "tile_size = 100"
   ]
  },
  {
   "cell_type": "markdown",
   "metadata": {},
   "source": [
    "#### RUN ONCE ONLY\n",
    "\n",
    "#### ran on raijin with 32gb node. Takes about 70-80s per iteration\n",
    "\n",
    "\"\"\"\n",
    "indatadir = '/g/data1/v45/pm2987/Spunup'\n",
    "outdatadir = '/g/data1/v45/jm0634/paige/Spunup_T'\n",
    "\n",
    "for ncfile in ncfiles:\n",
    "    outncfile = ncfile.replace(indatadir, outdatadir)\n",
    "    outdir = os.path.dirname(outncfile)\n",
    "    \n",
    "    if not os.path.exists(outdir):\n",
    "        os.mkdir(outdir)\n",
    "        \n",
    "    if os.path.exists(outncfile):\n",
    "        continue\n",
    "        \n",
    "    ds = xr.open_dataset(ncfile)\\\n",
    "           .isel(time=slice(None,-1)) # remove last time value since it repeated at the\n",
    "                                      # start of each output file\n",
    "    ds = ds.transpose('zi', 'z', 'yp', 'xp', 'time')\n",
    "    \n",
    "    encoding = { 'p'    : {'chunksizes': [1, 100, 100, 365]},\n",
    "                 'q'    : {'chunksizes': [1, 100, 100, 365]},\n",
    "                 'h'    : {'chunksizes': [1, 100, 100, 365]},\n",
    "                 'taux' : {'chunksizes': [100, 100, 365]},\n",
    "                 'tauy' : {'chunksizes': [100, 100, 365]},              \n",
    "                 'e'    : {'chunksizes': [100, 100, 365]},\n",
    "               }\n",
    "    for v in encoding:\n",
    "        encoding[v].update({'complevel': 0, \n",
    "                            'contiguous': False,\n",
    "                            'dtype': np.dtype('float32'),\n",
    "                            'source': ncfile,\n",
    "                            'zlib': False})\n",
    "    \n",
    "    ds.to_netcdf(outncfile, engine='netcdf4', format='NETCDF4', encoding=encoding)\n",
    "    del ds\n",
    "\"\"\""
   ]
  },
  {
   "cell_type": "code",
   "execution_count": 42,
   "metadata": {
    "collapsed": true
   },
   "outputs": [],
   "source": [
    "datadir = '/g/data1/v45/jm0634/paige/Spunup_T'\n",
    "\n",
    "#ncfiles = sorted(glob(os.path.join(datadir, 'output*/ocpo.nc'))) # for all files\n",
    "ncfiles = sorted(glob(os.path.join(datadir, 'output013/ocpo.nc')))"
   ]
  },
  {
   "cell_type": "markdown",
   "metadata": {},
   "source": [
    "Construct a DataArray of all output files (takes a few seconds)"
   ]
  },
  {
   "cell_type": "code",
   "execution_count": 43,
   "metadata": {},
   "outputs": [],
   "source": [
    "chunks = {'xp': tile_size, 'yp': tile_size, \n",
    "          'time':365, 'z':1, 'zi':1}\n",
    "\n",
    "datasets = [xr.open_dataset(fn, \n",
    "                            chunks=chunks)\n",
    "            for fn in ncfiles]\n",
    "\n",
    "dsx = xr.concat(datasets, dim='time', coords='all')"
   ]
  },
  {
   "cell_type": "markdown",
   "metadata": {},
   "source": [
    "### KE\n",
    "\n",
    "$$\n",
    "\\frac{H_1}{f_0^3 {H_{tot}}} \\mathrm{Re} \\left[  \\widehat{p_1}^* \n",
    "\\widehat{J(\\nabla_H^2 p_1,p_1)}\\right]\n",
    "+ \\frac{H_2}{f_0^3 {H_{tot}}} \\mathrm{Re} \\left[  \\widehat{p_2}^* \n",
    "\\widehat{J(\\nabla_H^2 p_2, p_2)}\\right]\n",
    "+\\frac{H_3}{f_0^3 {H_{tot}}} \\mathrm{Re} \\left[  \\widehat{p_3}^* \n",
    "\\widehat{J(\\nabla_H^2 p_3, p_3)}\\right]\n",
    "$$"
   ]
  },
  {
   "cell_type": "code",
   "execution_count": 63,
   "metadata": {
    "collapsed": true
   },
   "outputs": [],
   "source": [
    "def calc_KE(dsx, tile_index, z=0):\n",
    "    \n",
    "    # select variables\n",
    "    p = dsx.p.isel(z=z)\n",
    "\n",
    "        \n",
    "    ix, iy = tile_index\n",
    "    p = p.isel(yp=slice(max(iy*tile_size-3,0), (iy+1)*tile_size+3),\n",
    "               xp=slice(max(ix*tile_size-3,0), (ix+1)*tile_size+3))\n",
    "    xp = p.xp.values\n",
    "    yp = p.yp.values\n",
    "    time = p.time.values\n",
    "    \n",
    "    p = p.data\n",
    "    p = p.rechunk(chunks={0: tile_size + 6, 1:tile_size+6})\n",
    "        \n",
    "    def Jacobian(p):\n",
    "        # stencil\n",
    "        p_cc = p\n",
    "        p_ac = np.roll(p_cc,  2, axis=0)\n",
    "        p_bc = np.roll(p_cc,  1, axis=0)\n",
    "        p_dc = np.roll(p_cc, -1, axis=0)\n",
    "        p_ec = np.roll(p_cc, -2, axis=0)\n",
    "    \n",
    "        p_ca = np.roll(p_cc, -2, axis=1)\n",
    "        p_cb = np.roll(p_cc, -1, axis=1)\n",
    "        p_cd = np.roll(p_cc,  1, axis=1)\n",
    "        p_ce = np.roll(p_cc,  2, axis=1)\n",
    "    \n",
    "        p_bb = np.roll(p_bc, -1, axis=1)\n",
    "        p_bd = np.roll(p_bc,  1, axis=1)\n",
    "        p_db = np.roll(p_dc, -1, axis=1)\n",
    "        p_dd = np.roll(p_dc,  1, axis=1) \n",
    "        \n",
    "        p_x = p_cd - p_cb\n",
    "        p_y = p_bc - p_dc\n",
    "        delp_x = (p_ce + p_bd + p_dd - 4*p_cd) - (p_ca + p_bb + p_db - 4*p_cb)\n",
    "        delp_y = (p_bb + p_ac + p_bd - 4*p_bc) - (p_db + p_ec + p_dd - 4*p_dc)\n",
    "    \n",
    "        J = delp_x*p_y - delp_y*p_x\n",
    "        return J\n",
    "\n",
    "    J = p.map_blocks(Jacobian)\n",
    "    J = J[3:tile_size+3, 3:tile_size+3, :]\n",
    "\n",
    "    # TODO: handle boundary\n",
    "        \n",
    "    #dx = xp[1] - xp[0]\n",
    "    #dy = yp[1] - yp[1]\n",
    "    # TODO: divide by gridsize^4 to get derivative\n",
    "    J = 1/(dx**4)*J\n",
    "    \n",
    "    J = J.rechunk(chunks={0: tile_size/10, 1: tile_size/10, 2: 365*100})\n",
    "    Jhat = da.fft.rfft(J, axis=2)\n",
    "    Jhat = Jhat.rechunk( chunks={0: tile_size, 1:tile_size, 2: 365})\n",
    "\n",
    "    p = p[3:tile_size+3, 3:tile_size+3, :]\n",
    "    p = p.rechunk(chunks={0: tile_size/10, 1: tile_size/10, 2: 365*100})\n",
    "    phat = da.fft.rfft(p, axis=2)\n",
    "    phat = phat.rechunk(chunks={0: tile_size, 1:tile_size, 2: 365})\n",
    "\n",
    "    KE = H[z] / (f0**3 * Htot) *(phat.conj()*Jhat).real\n",
    "\n",
    "    KE = da.sum(KE, axis=(0,1))\n",
    "    \n",
    "    KE = KE.compute()\n",
    "    \n",
    "    # wrap as DataArray\n",
    "    n = len(time)\n",
    "    d = time[1] - time[0]\n",
    "    freq = np.fft.rfftfreq(n, d)\n",
    "    \n",
    "    KE = xr.DataArray(KE, \n",
    "                      dims=['freq'], \n",
    "                      coords={'freq': freq,\n",
    "                              'xp': xp.mean(),\n",
    "                              'yp': yp.mean()})\n",
    "    \n",
    "    return KE"
   ]
  },
  {
   "cell_type": "code",
   "execution_count": 64,
   "metadata": {
    "collapsed": true
   },
   "outputs": [
    {
     "data": {
      "text/plain": [
       "<xarray.DataArray (freq: 183)>\n",
       "array([ -5.245767e+02,  -7.954461e+00,  -2.577240e+01,  -3.118817e+00,\n",
       "         2.469028e+00,  -1.324356e+01,  -3.279028e+00,  -6.309665e+00,\n",
       "        -1.905063e+01,  -4.284202e+01,  -1.659338e+01,   6.610654e+00,\n",
       "        -1.636314e+00,   1.008854e+00,   1.488899e+01,  -5.348409e+00,\n",
       "        -9.836105e-01,  -3.776712e+00,  -1.330914e+01,  -4.049165e+00,\n",
       "         3.904597e+00,  -1.635386e+00,   3.393704e-01,   2.006533e+00,\n",
       "        -2.532488e+00,  -6.402928e-01,  -1.788029e-01,   6.324304e-01,\n",
       "        -7.939121e-01,   1.179858e+00,   4.914009e+00,  -8.807882e-02,\n",
       "        -6.815248e-01,  -6.021340e-01,   6.332996e-01,  -5.588498e-02,\n",
       "        -3.481773e-01,  -1.817978e-01,  -4.960512e-01,   2.596339e-01,\n",
       "         1.074930e-01,   2.206000e-01,  -8.726812e-01,   1.372742e-01,\n",
       "         2.417550e-01,  -4.089107e-01,   2.996211e-01,   2.830751e+00,\n",
       "         6.323234e-01,   3.277685e-01,   5.994482e-01,   7.693542e-02,\n",
       "        -6.969782e-02,   6.158966e-02,   1.458158e-01,  -2.387458e-01,\n",
       "         6.752112e-02,  -2.080785e-02,   8.559562e-02,   8.629184e-02,\n",
       "         4.513613e-02,  -2.083941e-02,  -2.535234e-03,  -9.254208e-02,\n",
       "        -6.141474e-02,  -1.145741e-01,  -1.294990e-02,   1.123688e-02,\n",
       "         2.840097e-02,   7.416490e-03,  -1.770844e-02,   1.552137e-02,\n",
       "        -1.283617e-02,  -8.081871e-03,  -2.634312e-03,  -4.976036e-03,\n",
       "         8.614331e-03,  -1.350681e-02,  -4.298191e-03,   2.167653e-03,\n",
       "         8.178946e-04,   6.342290e-03,  -6.456680e-03,  -1.233340e-02,\n",
       "        -2.008851e-03,   1.396830e-04,  -2.417231e-03,   7.994725e-04,\n",
       "        -5.465011e-03,  -2.006126e-03,  -6.763071e-03,  -2.585675e-03,\n",
       "        -7.813099e-03,  -7.259021e-05,   1.721567e-03,  -1.993701e-03,\n",
       "         2.745544e-03,   5.986191e-04,  -7.367907e-04,  -5.286878e-04,\n",
       "        -1.663500e-03,  -1.483924e-04,  -3.193140e-03,  -1.309636e-04,\n",
       "        -2.657098e-03,  -1.389586e-03,  -2.816312e-03,  -2.470784e-03,\n",
       "        -1.892832e-03,  -2.334044e-03,  -3.653999e-03,  -3.519877e-03,\n",
       "        -8.858887e-04,  -1.707768e-03,  -2.140888e-03,  -3.472958e-03,\n",
       "        -2.408393e-03,  -2.586999e-03,  -3.891386e-03,  -3.112002e-03,\n",
       "        -2.771408e-03,  -1.919032e-03,  -3.354564e-03,  -6.407744e-04,\n",
       "        -2.633587e-03,  -9.618485e-04,  -3.277685e-03,  -3.148456e-03,\n",
       "        -1.890019e-03,  -1.956659e-03,  -2.317118e-03,  -2.913890e-03,\n",
       "        -1.976305e-03,  -2.045249e-03,  -2.391320e-03,  -3.057992e-03,\n",
       "        -2.215800e-03,  -2.247083e-03,  -2.267828e-03,  -2.371925e-03,\n",
       "        -2.143490e-03,  -1.748978e-03,  -1.670303e-03,  -2.243381e-03,\n",
       "        -2.510282e-03,  -2.487440e-03,  -2.479559e-03,  -2.024238e-03,\n",
       "        -1.835801e-03,  -2.115323e-03,  -1.406094e-03,  -2.814492e-03,\n",
       "        -2.247701e-03,  -2.729462e-03,  -2.281241e-03,  -2.395553e-03,\n",
       "        -1.654970e-03,  -1.934632e-03,  -1.703449e-03,  -2.465497e-03,\n",
       "        -2.080755e-03,  -2.423437e-03,  -1.924723e-03,  -1.561799e-03,\n",
       "        -2.315472e-03,  -1.730663e-03,  -1.950627e-03,  -1.967475e-03,\n",
       "        -1.659530e-03,  -1.690260e-03,  -1.913516e-03,  -1.984688e-03,\n",
       "        -1.745831e-03,  -1.858512e-03,  -1.751514e-03,  -1.899955e-03,\n",
       "        -2.039246e-03,  -2.140447e-03,  -2.030882e-03,  -1.967083e-03,\n",
       "        -2.376755e-03,  -1.883843e-03,  -1.530144e-03])\n",
       "Coordinates:\n",
       "  * freq     (freq) float64 0.0 1.0 2.001 3.001 4.001 5.001 6.002 7.002 ...\n",
       "    xp       float32 1747.5\n",
       "    yp       float32 255.0"
      ]
     },
     "execution_count": 64,
     "metadata": {},
     "output_type": "execute_result"
    }
   ],
   "source": [
    "calc_KE(dsx,(3,0))"
   ]
  },
  {
   "cell_type": "markdown",
   "metadata": {},
   "source": [
    "### PE\n",
    "\n",
    "\n",
    "$$\n",
    "\\frac{1}{f_0 H_{tot}} \\frac{1}{g_1'}  \\mathrm{Re}  \\left[ \\widehat{(p_2 - p_1)}^* \\widehat{J( p_1,p_2)} \\right]\n",
    "+ \\frac{1}{f_0 H_{tot}} \\frac{1}{g_2'}  \\mathrm{Re}  \\left[ \\widehat{(p_3 - p_2)}^* \\widehat{J( p_2,p_3)} \\right]\n",
    "$$\n"
   ]
  },
  {
   "cell_type": "code",
   "execution_count": 30,
   "metadata": {
    "collapsed": true
   },
   "outputs": [
    {
     "name": "stdout",
     "output_type": "stream",
     "text": [
      "Detrending in time yay!\n",
      "After time detrend  (1, 1, 1)\n",
      "Making window in time\n",
      "Detrending in time yay!\n",
      "After time detrend  (1, 1, 1)\n",
      "Making window in time\n"
     ]
    },
    {
     "data": {
      "text/plain": [
       "<xarray.DataArray (freq: 1278)>\n",
       "array([ -2.613512e-06,  -1.246182e-04,  -3.080069e-05, ...,  -4.119919e-10,\n",
       "        -5.252291e-10,  -2.925544e-10])\n",
       "Coordinates:\n",
       "  * freq     (freq) float64 0.0 0.1429 0.2858 0.4287 0.5716 0.7145 0.8574 ...\n",
       "    xp       float32 4647.5\n",
       "    yp       float32 4647.5"
      ]
     },
     "execution_count": 30,
     "metadata": {},
     "output_type": "execute_result"
    }
   ],
   "source": [
    "def calc_PE(dsx, tile_index, z=0):\n",
    "    \n",
    "    # select variables\n",
    "    p1 = dsx.p.isel(z=z)\n",
    "    p2 = dsx.p.isel(z=z+1)\n",
    "    \n",
    "    # work with DaskArrays\n",
    "    ix, iy = tile_index\n",
    "    p1 = p1.isel(yp=slice(max(iy*tile_size-1,0), (iy+1)*tile_size+1),\n",
    "                 xp=slice(max(ix*tile_size-1,0), (ix+1)*tile_size+1))\n",
    "    p2 = p2.isel(yp=slice(max(iy*tile_size-1,0), (iy+1)*tile_size+1),\n",
    "                 xp=slice(max(ix*tile_size-1,0), (ix+1)*tile_size+1))\n",
    "\n",
    "    \n",
    "    xp = p1.xp.values\n",
    "    yp = p1.yp.values\n",
    "    time = p1.time.values\n",
    "    \n",
    "    p1 = p1.data\n",
    "    p2 = p2.data \n",
    "    \n",
    "    if ix==0:\n",
    "        p1 = da.concatenate([p1[:,slice(0,1),:], p1], axis=1)\n",
    "        p2 = da.concatenate([p2[:,slice(0,1),:], p2], axis=1)\n",
    "    if iy==0:\n",
    "        p1 = da.concatenate([p1[slice(0,1),:,:], p1], axis=0)\n",
    "        p2 = da.concatenate([p2[slice(0,1),:,:], p2], axis=0)\n",
    "    if ix==9:\n",
    "        p1 = da.concatenate([p1, p1[:,slice(-1,None),:]], axis=1)\n",
    "        p2 = da.concatenate([p2, p2[:,slice(-1,None),:]], axis=1)\n",
    "    if iy==9:\n",
    "        p1 = da.concatenate([p1, p1[slice(-1,None),:,:]], axis=0)\n",
    "        p2 = da.concatenate([p2, p2[slice(-1,None),:,:]], axis=0)\n",
    "        \n",
    "    ny, nx, nt = p1.shape\n",
    "    p1 = p1.rechunk(chunks={0: ny, 1: nx})\n",
    "    p2 = p2.rechunk(chunks={0: ny, 1: nx})\n",
    "\n",
    "    def Derivative(p, axis):\n",
    "        p_right = np.roll(p, 1, axis=axis)\n",
    "        p_left = np.roll(p, -1, axis=axis)\n",
    "        dp = p_right - p_left\n",
    "        return dp\n",
    "        \n",
    "    Derivative_x = lambda p: Derivative(p, 1)\n",
    "    Derivative_y = lambda p: Derivative(p, 0)\n",
    "    \n",
    "    p1x = p1.map_blocks(Derivative_x)\n",
    "    p1y = p1.map_blocks(Derivative_y)\n",
    "    p2x = p2.map_blocks(Derivative_x)\n",
    "    p2y = p2.map_blocks(Derivative_y)\n",
    "\n",
    "    J = p1x*p2y - p1y*p2x\n",
    "    \n",
    "    J = J[1:tile_size+1, 1:tile_size+1, :]\n",
    "    \n",
    "    ds = da.ones(J.shape, chunks=J.chunks)*4*dx\n",
    "    if ix==0:\n",
    "        ds = da.concatenate( [ ds[:,slice(0,1),:]/4, ds[:,1:,:] ], axis = 1)\n",
    "    if iy==0:\n",
    "        ds = da.concatenate( [ ds[slice(0,1),:,:]/4, ds[1:,:,:] ], axis = 0)\n",
    "    if ix==9:\n",
    "        ds = da.concatenate( [ ds[:,slice(-1,None),:]/4, ds[:,:-1,:] ], axis = 1)\n",
    "    if iy==9:\n",
    "        ds = da.concatenate( [ ds[slice(-1, None),:,:]/4, ds[:-1,:,:] ], axis = 0)\n",
    "        \n",
    "    # divide needed for derivatives\n",
    "    J = J / ds\n",
    "    \n",
    "    def fft_block(var): # var is numpy array\n",
    "        var = detrend_func(var,'time')\n",
    "        var = window_func(var,'time')\n",
    "        varhat = (1./var.shape[2])*np.fft.rfft(var, axis=2)\n",
    "        return varhat\n",
    "    \n",
    "    J = J.rechunk(chunks={0: tile_size/10, 1: tile_size/10, 2: 365*100})\n",
    "    #Jhat = da.fft.rfft(J, axis=2)\n",
    "    \n",
    "    pdiff = p2 - p1\n",
    "    pdiff = pdiff[1:tile_size+1, 1:tile_size+1, :]\n",
    "    pdiff = pdiff.rechunk(chunks={0: tile_size/10, \n",
    "                                  1: tile_size/10, \n",
    "                                  2: 365*100})\n",
    "    \n",
    "    # Execute fft function above\n",
    "    Jhat = J.map_blocks(fft_block)\n",
    "    pdiffhat = pdiff.map_blocks(fft_block)\n",
    "    \n",
    "    #pdiffhat = da.fft.rfft(pdiff, axis=2)\n",
    "    Jhat = Jhat.rechunk( chunks={0: tile_size, 1:tile_size, 2: 365})\n",
    "    pdiffhat = pdiffhat.rechunk(chunks={0: tile_size, \n",
    "                                        1: tile_size, \n",
    "                                        2: 365})\n",
    "    \n",
    "    PE = 1 / (f0 * Htot)*(1/g[0])*(pdiffhat.conj()*Jhat).real\n",
    "\n",
    "    PE = da.sum(PE, axis=(0,1))\n",
    "    \n",
    "    PE = PE.compute()\n",
    "    \n",
    "    # wrap as DataArray\n",
    "    n = len(time)\n",
    "    d = time[1] - time[0]\n",
    "    freq = np.fft.rfftfreq(n, d)\n",
    "    \n",
    "    PE = xr.DataArray(PE,\n",
    "                      dims=['freq'], \n",
    "                      coords={'freq': freq,\n",
    "                              'xp': xp.mean(),\n",
    "                              'yp': yp.mean()})\n",
    "    return PE\n",
    "\n",
    "calc_PE(dsx, (9,9))"
   ]
  },
  {
   "cell_type": "markdown",
   "metadata": {},
   "source": [
    "## Buoyancy\n",
    "\n",
    "$$\n",
    "\\frac{1}{H_{tot}} \\mathrm{Re} \\left[ \\widehat{(p_2 - p_1)}^* \\widehat{e_1} \\right]\n",
    "$$\n"
   ]
  },
  {
   "cell_type": "code",
   "execution_count": 116,
   "metadata": {
    "collapsed": true
   },
   "outputs": [],
   "source": [
    "def calc_buoyancy(dsx, tile_index):\n",
    "    # select variables\n",
    "    p1 = dsx.p.isel(z=0)\n",
    "    p2 = dsx.p.isel(z=1)\n",
    "    e = dsx.e\n",
    "    \n",
    "    # work with DaskArrays\n",
    "    ix, iy = tile_index\n",
    "    p1 = p1.isel(yp=slice(iy*tile_size, (iy+1)*tile_size),\n",
    "                 xp=slice(ix*tile_size, (ix+1)*tile_size))\n",
    "    p2 = p2.isel(yp=slice(iy*tile_size, (iy+1)*tile_size),\n",
    "                 xp=slice(ix*tile_size, (ix+1)*tile_size))\n",
    "    e = e.isel(yp=slice(iy*tile_size, (iy+1)*tile_size),\n",
    "                 xp=slice(ix*tile_size, (ix+1)*tile_size))\n",
    "    \n",
    "    xp = p1.xp.values\n",
    "    yp = p1.yp.values\n",
    "    time = p1.time.values\n",
    "    \n",
    "    p1 = p1.data\n",
    "    p2 = p2.data\n",
    "    e = e.data\n",
    "    \n",
    "    pdiff = p2 - p1\n",
    "    \n",
    "    def fft_block(var): # var is numpy array\n",
    "        var = detrend_func(var,'time')\n",
    "        var = window_func(var,'time')\n",
    "        varhat = (1.0/var.shape[2])*np.fft.rfft(var, axis=2)\n",
    "\n",
    "        return varhat\n",
    "\n",
    "    \n",
    "    e = e.rechunk(chunks={0: tile_size/10, 1: tile_size/10, 2: 365*100})\n",
    "    pdiff = pdiff.rechunk(chunks={0: tile_size/10, 1: tile_size/10, 2: 365*100})\n",
    "    print (e)\n",
    "    # Execute fft function above\n",
    "    ehat = e.map_blocks(fft_block)\n",
    "    pdiffhat = pdiff.map_blocks(fft_block)\n",
    "    \n",
    "    e = e.rechunk(chunks={0: tile_size, \n",
    "                                  1: tile_size, \n",
    "                                  2: 365})\n",
    "    pdiff = pdiff.rechunk(chunks={0: tile_size, \n",
    "                                  1: tile_size, \n",
    "                                  2: 365})\n",
    "    \n",
    "    buoyancy = (1 / Htot)*(pdiffhat.conj()*ehat).real\n",
    "\n",
    "    buoyancy = da.sum(buoyancy, axis=(0,1))\n",
    "    \n",
    "    buoyancy = buoyancy.compute()\n",
    "    \n",
    "    # wrap as DataArray\n",
    "    n = len(time)\n",
    "    d = time[1] - time[0]\n",
    "    freq = np.fft.rfftfreq(n, d)\n",
    "    \n",
    "    buoyancy = xr.DataArray(buoyancy,\n",
    "                      dims=['freq'], \n",
    "                      coords={'freq': freq,\n",
    "                              'xp': xp.mean(),\n",
    "                              'yp': yp.mean()})\n",
    "    \n",
    "    return buoyancy"
   ]
  },
  {
   "cell_type": "markdown",
   "metadata": {},
   "source": [
    "## Windstress\n",
    "\n",
    "$$\n",
    "\\frac{1}{H_{tot}} \\mathrm{Re} \\left[ \\widehat{p_1}^* \\widehat{w_{ek}} \\right]\n",
    "$$"
   ]
  },
  {
   "cell_type": "code",
   "execution_count": 7,
   "metadata": {
    "collapsed": true
   },
   "outputs": [],
   "source": [
    "def calc_windstress(dsx, tile_index):\n",
    "    # select variables\n",
    "    p = dsx.p.isel(z=0) # dimensions: (y,x,time) = (lat,lon,time)\n",
    "    taux = dsx.taux\n",
    "    tauy = dsx.tauy\n",
    "    \n",
    "# work with DaskArrays\n",
    "#   - Cut 100 piece chunks, with padding on edges for derivatives\n",
    "    ix, iy = tile_index\n",
    "    p = p.isel(yp=slice(max(iy*tile_size,0), (iy+1)*tile_size),\n",
    "                 xp=slice(max(ix*tile_size,0), (ix+1)*tile_size))\n",
    "    taux = taux.isel(yp=slice(max(iy*tile_size-1,0), (iy+1)*tile_size+1),\n",
    "                 xp=slice(max(ix*tile_size-1,0), (ix+1)*tile_size+1))\n",
    "    tauy = tauy.isel(yp=slice(max(iy*tile_size-1,0), (iy+1)*tile_size+1),\n",
    "                 xp=slice(max(ix*tile_size-1,0), (ix+1)*tile_size+1))\n",
    "    \n",
    "    xp = p.xp.values\n",
    "    yp = p.yp.values\n",
    "    time = p.time.values\n",
    "    \n",
    "    # Put into numpy arrays (to access the data)\n",
    "    p = p.data\n",
    "    taux = taux.data \n",
    "    tauy = tauy.data\n",
    "    \n",
    "    # Concatenate rows/columns for taking of derivative\n",
    "    if ix==0:\n",
    "        taux = da.concatenate([taux[:,slice(0,1),:], taux], axis=1)\n",
    "        tauy = da.concatenate([tauy[:,slice(0,1),:], tauy], axis=1)\n",
    "    if iy==0:\n",
    "        taux = da.concatenate([taux[slice(0,1),:,:], taux], axis=0)\n",
    "        tauy = da.concatenate([tauy[slice(0,1),:,:], tauy], axis=0)\n",
    "    if ix==9:\n",
    "        taux = da.concatenate([taux, taux[:,slice(-1,None),:]], axis=1)\n",
    "        tauy = da.concatenate([tauy, tauy[:,slice(-1,None),:]], axis=1)\n",
    "    if iy==9:\n",
    "        taux = da.concatenate([taux, taux[slice(-1,None),:,:]], axis=0)\n",
    "        tauy = da.concatenate([tauy, tauy[slice(-1,None),:,:]], axis=0)\n",
    "        \n",
    "    ny, nx, nt = taux.shape\n",
    "    taux = taux.rechunk(chunks={0: ny, 1: nx})\n",
    "    tauy = tauy.rechunk(chunks={0: ny, 1: nx})\n",
    "\n",
    "    def Derivative(tau, axis):\n",
    "        tau_right = np.roll(tau, 1, axis=axis)\n",
    "        tau_left = np.roll(tau, -1, axis=axis)\n",
    "        dtau = tau_right - tau_left\n",
    "        return dtau\n",
    "        \n",
    "    Derivative_x = lambda tau: Derivative(tau, 1)\n",
    "    Derivative_y = lambda tau: Derivative(tau, 0)\n",
    "    \n",
    "    # Run the derivative function\n",
    "    tauy_x = tauy.map_blocks(Derivative_x)\n",
    "    taux_y = taux.map_blocks(Derivative_y)\n",
    "\n",
    "    # Define Ekman velocity\n",
    "    wek = (1./f0) * (tauy_x - taux_y)\n",
    "    \n",
    "    # Trim matrix down to desired size after derivative\n",
    "    wek = wek[1:tile_size+1, 1:tile_size+1, :]\n",
    "    \n",
    "    # If at end edges, they are less than \"tile_size\" long and so need to shave ends\n",
    "    if len(wek[1,:,1]) < tile_size:\n",
    "        wek = wek[:,:-1,:]\n",
    "    if len(wek[:,1,1]) < tile_size:\n",
    "        wek = wek[:-1,:,:]\n",
    "    \n",
    "    # Construct ds: matrix of constants to divide by in taking of derivative\n",
    "    ds = da.ones(wek.shape, chunks=wek.chunks)*2*dx\n",
    "    if ix==0:\n",
    "        ds = da.concatenate( [ ds[:,slice(0,1),:]/2, ds[:,1:,:] ], axis = 1)\n",
    "    if iy==0:\n",
    "        ds = da.concatenate( [ ds[slice(0,1),:,:]/2, ds[1:,:,:] ], axis = 0)\n",
    "    if ix==9:\n",
    "        ds = da.concatenate( [ ds[:,slice(-1,None),:]/2, ds[:,:-1,:] ], axis = 1)\n",
    "    if iy==9:\n",
    "        ds = da.concatenate( [ ds[slice(-1, None),:,:]/2, ds[:-1,:,:] ], axis = 0)\n",
    "        \n",
    "    # Divide needed for derivatives\n",
    "    wek = wek / ds\n",
    "    \n",
    "    def fft_block(var): # var is numpy array\n",
    "        var = detrend_func(var,'time')\n",
    "        var = window_func(var,'time')\n",
    "        varhat = (1.0/var.shape[2])*np.fft.rfft(var, axis=2)\n",
    "        return varhat\n",
    "\n",
    "    # Rechunk arrays into even smaller chunks for fft calculation\n",
    "    wek = wek.rechunk(chunks={0: tile_size/10, 1: tile_size/10, 2: 365*100})\n",
    "    p = p.rechunk(chunks={0: tile_size/10, 1: tile_size/10, 2: 365*100})\n",
    "    \n",
    "    # Execute fft function above\n",
    "    wekhat = wek.map_blocks(fft_block)\n",
    "    phat = p.map_blocks(fft_block)\n",
    "    \n",
    "    wek = wek.rechunk(chunks={0: tile_size, \n",
    "                                  1: tile_size, \n",
    "                                  2: 365})\n",
    "    p = p.rechunk(chunks={0: tile_size, \n",
    "                                  1: tile_size, \n",
    "                                  2: 365})\n",
    "    \n",
    "    windstress = (1 / Htot)*(phat.conj()*wekhat).real\n",
    "\n",
    "    windstress = da.sum(windstress, axis=(0,1))\n",
    "    \n",
    "    windstress = windstress.compute()\n",
    "    \n",
    "    # wrap as DataArray\n",
    "    n = len(time)\n",
    "    d = time[1] - time[0]\n",
    "    freq = np.fft.rfftfreq(n, d)\n",
    "    \n",
    "    windstress = xr.DataArray(windstress,\n",
    "                      dims=['freq'], \n",
    "                      coords={'freq': freq,\n",
    "                              'xp': xp.mean(),\n",
    "                              'yp': yp.mean()})\n",
    "    \n",
    "    return windstress"
   ]
  },
  {
   "cell_type": "code",
   "execution_count": 8,
   "metadata": {},
   "outputs": [
    {
     "name": "stdout",
     "output_type": "stream",
     "text": [
      "Detrending in time\n",
      "After time detrend  (1, 1, 1)\n",
      "Making window in time\n",
      "Detrending in time\n",
      "After time detrend  (1, 1, 1)\n",
      "Making window in time\n",
      "CPU times: user 828 ms, sys: 69 ms, total: 897 ms\n",
      "Wall time: 5.58 s\n"
     ]
    }
   ],
   "source": [
    "%%time\n",
    "windstress = calc_windstress(dsx,(9,0))"
   ]
  },
  {
   "cell_type": "code",
   "execution_count": 14,
   "metadata": {
    "collapsed": true
   },
   "outputs": [
    {
     "data": {
      "text/plain": [
       "[<matplotlib.lines.Line2D at 0x7f663734ca90>]"
      ]
     },
     "execution_count": 14,
     "metadata": {},
     "output_type": "execute_result"
    },
    {
     "data": {
      "image/png": "[encoded data removed]",
      "text/plain": [
       "<matplotlib.figure.Figure at 0x7f66372e4eb8>"
      ]
     },
     "metadata": {},
     "output_type": "display_data"
    }
   ],
   "source": [
    "buoyancy.plot()"
   ]
  },
  {
   "cell_type": "code",
   "execution_count": 65,
   "metadata": {},
   "outputs": [
    {
     "name": "stdout",
     "output_type": "stream",
     "text": [
      "CPU times: user 38.8 s, sys: 3.67 s, total: 42.4 s\n",
      "Wall time: 1min 36s\n"
     ]
    }
   ],
   "source": [
    "%%time\n",
    "from itertools import product\n",
    "\n",
    "# ceil(x/y) = (x+y+1)//y\n",
    "yi = range((961+tile_size+1)//(tile_size)) \n",
    "xi = range((961+tile_size+1)//(tile_size))\n",
    "\n",
    "tile_indexes = list(product(*[yi, xi]))\n",
    "\n",
    "KE_sum = 0\n",
    "results = []\n",
    "buoyancy_sum = 0\n",
    "PE_sum = 0\n",
    "windstress_sum = 0\n",
    "for tile_index in tile_indexes[:]:\n",
    "    KE1 = calc_KE(dsx, tile_index, 0)\n",
    "    #KE2 = calc_KE(dsx, tile_index, 1)\n",
    "    #KE3 = calc_KE(dsx, tile_index, 2)\n",
    "    #KE = KE1+KE2+KE3\n",
    "    \n",
    "    #PE1 = calc_PE(dsx, tile_index, 0)\n",
    "    #PE2 = calc_PE(dsx, tile_index, 1)\n",
    "    \n",
    "    #PE = PE1 + PE2\n",
    "    #PE_sum += PE1\n",
    "    KE_sum += KE1\n",
    "    #buoyancy = calc_buoyancy(dsx, tile_index)\n",
    "    \n",
    "    #windstress = calc_windstress(dsx,tile_index)\n",
    "    #windstress_sum += windstress\n",
    "    \n",
    "    #buoyancy_sum = buoyancy_sum + buoyancy\n",
    "    \n",
    "    # Want to sum each buoyancy term, and divide by the total number of spatial points\n",
    "    #results.append(buoyancy)\n",
    "    #results.sum(buoyancy)\n",
    "    \n",
    "    #results.append(KE)\n",
    "    \n",
    "\n",
    "    \n",
    "#buoyancy_avg = buoyancy_sum/(961*961)"
   ]
  },
  {
   "cell_type": "code",
   "execution_count": 115,
   "metadata": {},
   "outputs": [
    {
     "data": {
      "text/plain": [
       "[<matplotlib.lines.Line2D at 0x7f6614976438>]"
      ]
     },
     "execution_count": 115,
     "metadata": {},
     "output_type": "execute_result"
    },
    {
     "data": {
      "image/png": "[encoded data removed]",
      "text/plain": [
       "<matplotlib.figure.Figure at 0x7f65fd5e2080>"
      ]
     },
     "metadata": {},
     "output_type": "display_data"
    }
   ],
   "source": [
    "buoyancy_sum.plot()"
   ]
  },
  {
   "cell_type": "code",
   "execution_count": 28,
   "metadata": {},
   "outputs": [
    {
     "ename": "NameError",
     "evalue": "name 'buoyancy_avg' is not defined",
     "output_type": "error",
     "traceback": [
      "\u001b[0;31m---------------------------------------------------------------------------\u001b[0m",
      "\u001b[0;31mNameError\u001b[0m                                 Traceback (most recent call last)",
      "\u001b[0;32m<ipython-input-28-3e40ca5f1d69>\u001b[0m in \u001b[0;36m<module>\u001b[0;34m()\u001b[0m\n\u001b[1;32m      3\u001b[0m \u001b[0;34m\u001b[0m\u001b[0m\n\u001b[1;32m      4\u001b[0m \u001b[0mplt\u001b[0m\u001b[0;34m.\u001b[0m\u001b[0mfigure\u001b[0m\u001b[0;34m(\u001b[0m\u001b[0;34m)\u001b[0m\u001b[0;34m\u001b[0m\u001b[0m\n\u001b[0;32m----> 5\u001b[0;31m \u001b[0mplt\u001b[0m\u001b[0;34m.\u001b[0m\u001b[0mplot\u001b[0m\u001b[0;34m(\u001b[0m\u001b[0mbuoyancy_avg\u001b[0m\u001b[0;34m*\u001b[0m\u001b[0mktiso\u001b[0m\u001b[0;34m)\u001b[0m\u001b[0;34m\u001b[0m\u001b[0m\n\u001b[0m\u001b[1;32m      6\u001b[0m \u001b[0mplt\u001b[0m\u001b[0;34m.\u001b[0m\u001b[0mxscale\u001b[0m\u001b[0;34m(\u001b[0m\u001b[0;34m'log'\u001b[0m\u001b[0;34m)\u001b[0m\u001b[0;34m\u001b[0m\u001b[0m\n",
      "\u001b[0;31mNameError\u001b[0m: name 'buoyancy_avg' is not defined"
     ]
    },
    {
     "data": {
      "text/plain": [
       "<matplotlib.figure.Figure at 0x7f331fde1be0>"
      ]
     },
     "metadata": {},
     "output_type": "display_data"
    }
   ],
   "source": [
    "# Define ktiso for plotting\n",
    "ktiso = (2*np.pi/(365*24*60*60))*np.arange(0,np.floor(365.0/2)+1)\n",
    "\n",
    "plt.figure()\n",
    "plt.plot(buoyancy_avg*ktiso)\n",
    "plt.xscale('log')"
   ]
  },
  {
   "cell_type": "code",
   "execution_count": 16,
   "metadata": {},
   "outputs": [
    {
     "data": {
      "text/plain": [
       "(-0.2, 0.2)"
      ]
     },
     "execution_count": 16,
     "metadata": {},
     "output_type": "execute_result"
    },
    {
     "data": {
      "image/png": "[encoded data removed]",
      "text/plain": [
       "<matplotlib.figure.Figure at 0x7fd14e7e0ef0>"
      ]
     },
     "metadata": {},
     "output_type": "display_data"
    }
   ],
   "source": [
    "# Without time detrend/window\n",
    "\n",
    "#np.save(\"TPE1_nodetrend_output013\",PE_sum_nodetrend)\n",
    "\n",
    "plt.figure()\n",
    "plt.plot(PE_sum_nodetrend)\n",
    "plt.xscale('log')\n",
    "plt.ylim([-.2,.2])"
   ]
  },
  {
   "cell_type": "code",
   "execution_count": 17,
   "metadata": {},
   "outputs": [
    {
     "data": {
      "text/plain": [
       "(-0.2, 0.2)"
      ]
     },
     "execution_count": 17,
     "metadata": {},
     "output_type": "execute_result"
    },
    {
     "data": {
      "image/png": "[encoded data removed]",
      "text/plain": [
       "<matplotlib.figure.Figure at 0x7fd14e3812b0>"
      ]
     },
     "metadata": {},
     "output_type": "display_data"
    }
   ],
   "source": [
    "# With time detrend/window before FFT\n",
    "#PE_sum_constantdetrend = PE_sum\n",
    "#np.save(\"TPE1_output013\",PE_sum)\n",
    "\n",
    "plt.figure()\n",
    "plt.plot(PE_sum)\n",
    "plt.xscale('log')\n",
    "plt.ylim([-.2,.2])"
   ]
  },
  {
   "cell_type": "code",
   "execution_count": 32,
   "metadata": {},
   "outputs": [
    {
     "data": {
      "text/plain": [
       "[<matplotlib.lines.Line2D at 0x7f417f8aaf98>]"
      ]
     },
     "execution_count": 32,
     "metadata": {},
     "output_type": "execute_result"
    },
    {
     "data": {
      "image/png": "[encoded data removed]",
      "text/plain": [
       "<matplotlib.figure.Figure at 0x7f417fbfcda0>"
      ]
     },
     "metadata": {},
     "output_type": "display_data"
    }
   ],
   "source": [
    "# With linear time detrend/window (as opposed to constant)\n",
    "#PE_sum_lineardetrend = PE_sum\n",
    "#np.save(\"TPE1_lineardetrend_output013\",PE_sum_lineardetrend)\n",
    "\n",
    "plt.figure()\n",
    "plt.semilogx(PE_sum)\n",
    "#plt.xscale('log')\n",
    "#plt.ylim([-.2,.2])"
   ]
  },
  {
   "cell_type": "code",
   "execution_count": 29,
   "metadata": {},
   "outputs": [
    {
     "data": {
      "image/png": "[encoded data removed]",
      "text/plain": [
       "<matplotlib.figure.Figure at 0x7f331fd7c470>"
      ]
     },
     "metadata": {},
     "output_type": "display_data"
    }
   ],
   "source": [
    "plt.figure()\n",
    "plt.plot(windstress_sum*ktiso)\n",
    "plt.xscale('log')\n",
    "#windstress_sum\n",
    "\n",
    "#windstress_sum.plot()"
   ]
  },
  {
   "cell_type": "code",
   "execution_count": 66,
   "metadata": {},
   "outputs": [
    {
     "data": {
      "text/plain": [
       "[<matplotlib.lines.Line2D at 0x7f41b9b9e630>]"
      ]
     },
     "execution_count": 66,
     "metadata": {},
     "output_type": "execute_result"
    },
    {
     "data": {
      "image/png": "[encoded data removed]",
      "text/plain": [
       "<matplotlib.figure.Figure at 0x7f417b0459e8>"
      ]
     },
     "metadata": {},
     "output_type": "display_data"
    }
   ],
   "source": [
    "# Plot KE1\n",
    "\n",
    "KE_sum_lineardetrend = KE_sum\n",
    "np.save(\"TKE1_lineardetrend_output013\",KE_sum_lineardetrend)\n",
    "\n",
    "ktiso = (2*np.pi/(365*24*60*60))*np.arange(0,np.floor(365.0/2)+1)\n",
    "\n",
    "plt.semilogx(KE_sum*ktiso)"
   ]
  },
  {
   "cell_type": "code",
   "execution_count": null,
   "metadata": {
    "collapsed": true
   },
   "outputs": [],
   "source": []
  }
 ],
 "metadata": {
  "anaconda-cloud": {},
  "kernelspec": {
   "display_name": "Python [conda env:analysis3]",
   "language": "python",
   "name": "conda-env-analysis3-py"
  },
  "language_info": {
   "codemirror_mode": {
    "name": "ipython",
    "version": 3
   },
   "file_extension": ".py",
   "mimetype": "text/x-python",
   "name": "python",
   "nbconvert_exporter": "python",
   "pygments_lexer": "ipython3",
   "version": "3.6.1"
  }
 },
 "nbformat": 4,
 "nbformat_minor": 2
}
