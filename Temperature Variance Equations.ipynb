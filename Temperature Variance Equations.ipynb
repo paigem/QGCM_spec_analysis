{
 "cells": [
  {
   "cell_type": "markdown",
   "metadata": {},
   "source": [
    "# Temperature Variance Equations"
   ]
  },
  {
   "cell_type": "markdown",
   "metadata": {},
   "source": [
    "## Ocean mixed layer temperature evolution equation"
   ]
  },
  {
   "cell_type": "markdown",
   "metadata": {},
   "source": [
    "$$\n",
    "T_{mt} + \n",
    "\\underbrace{\\left( u_m T_m \\right)_x + \\left( v_m T_m \\right)_y}_\\text{horizontal temperature advection} -\n",
    "\\overbrace{\\frac{w_{ek} T_m}{H_m}}^\\text{vertical temperature advection}\n",
    "= \n",
    "\\underbrace{\\frac{F_0}{\\rho C_p H_m}}_\\text{heat flux into and out of ocean mixed layer} +\n",
    "\\overbrace{\\frac{F_m^{e+}}{\\rho C_p H_m}}^\\text{entrainment heat flux} +\n",
    "\\underbrace{K_2 \\nabla _H^2 T_m - K_4 \\nabla _H^4 T_m}_\\text{diffusion}\n",
    "$$"
   ]
  },
  {
   "cell_type": "markdown",
   "metadata": {},
   "source": [
    "where \n",
    "\n",
    "$$\n",
    "u_m = -\\frac{1}{f_0} p_{1y} + \\frac{1}{f_0 H_m} \\tau ^y,\n",
    "$$\n",
    "\n",
    "$$\n",
    "v_m = \\frac{1}{f_0} p_{1x} - \\frac{1}{f_0 H_m} \\tau ^x,\n",
    "$$\n",
    "\n",
    "$$\n",
    "w_{ek} = \\frac{1}{f_0} \\left( \\tau _x^y - \\tau _y^x \\right).\n",
    "$$\n"
   ]
  },
  {
   "cell_type": "markdown",
   "metadata": {},
   "source": [
    "## Spectral Temperature Varicance Equations"
   ]
  },
  {
   "cell_type": "markdown",
   "metadata": {},
   "source": [
    "$$\n",
    "0 = \\frac{C_m}{f_0} \\mathrm{Re} \\left[ \\widehat{T_m}^* \\widehat{J(T_m,p_1)} \\right] + \n",
    "\\frac{C_m}{f_0 H_m} \\mathrm{Re} \\left[ \\widehat{T_m}^* \\widehat{(\\tau ^x - \\tau ^y)} \\right] +\n",
    "\\overbrace{\\frac{C_m}{\\rho C_p H_m} \\mathrm{Re} \\left[ \\widehat{T_m}^* \\widehat{F_0} \\right]}^\\text{mixed layer heat flux} +\n",
    "\\overbrace{\\frac{C_m}{\\rho C_p H_m} \\mathrm{Re} \\left[ \\widehat{T_m}^* \\widehat{F_m^{e+}} \\right]}^\\text{entrainment heat flux} \\\\ +\n",
    "\\underbrace{C_m K_2 \\mathrm{Re} \\left[ \\widehat{T_m}^* \\widehat{\\nabla_H^2 T_m} \\right] +\n",
    "C_m K_4 \\mathrm{Re} \\left[ \\widehat{T_m}^* \\widehat{\\nabla_H^4 T_m} \\right]}_\\text{diffusion}\n",
    "$$"
   ]
  }
 ],
 "metadata": {
  "kernelspec": {
   "display_name": "Python 3",
   "language": "python",
   "name": "python3"
  },
  "language_info": {
   "codemirror_mode": {
    "name": "ipython",
    "version": 3
   },
   "file_extension": ".py",
   "mimetype": "text/x-python",
   "name": "python",
   "nbconvert_exporter": "python",
   "pygments_lexer": "ipython3",
   "version": "3.6.1"
  }
 },
 "nbformat": 4,
 "nbformat_minor": 2
}
