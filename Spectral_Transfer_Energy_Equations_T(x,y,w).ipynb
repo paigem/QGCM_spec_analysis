{
 "cells": [
  {
   "cell_type": "markdown",
   "metadata": {},
   "source": [
    "# Derivation of Spectral Transfer Equations T(x,y,w)"
   ]
  },
  {
   "cell_type": "markdown",
   "metadata": {},
   "source": [
    "## QGCM Momentum Equations"
   ]
  },
  {
   "cell_type": "markdown",
   "metadata": {},
   "source": [
    "$$\n",
    "\\begin{cases}\n",
    "q_{kt} = \\cfrac{1}{f_0} J(q_k,p_k) + Be + \\cfrac{A_2}{f_0} \\nabla ^4 p_k - \\cfrac{A_4}{f_0} \\nabla ^6 p_k \\\\\n",
    "f_0 q_k = f_0 \\beta (y-y_0) + \\nabla _H ^2 p_k - f_0 ^2 A p_k + f_0 D\n",
    "\\end{cases}\n",
    "$$"
   ]
  },
  {
   "cell_type": "markdown",
   "metadata": {},
   "source": [
    "$$\n",
    "A = \n",
    "\\begin{bmatrix}\n",
    "\\frac{1}{H_1 g'_1} & -\\frac{1}{H_1 g'_1} & 0 \\\\\n",
    "-\\frac{1}{H_2 g'_1} & \\frac{1}{H_2} (\\frac{1}{g'_1} + \\frac{1}{g'_2}) & -\\frac{1}{H_2 g'_1} \\\\\n",
    "0 & -\\frac{1}{H_3 g'_2} & \\frac{1}{H_3 g'_2}\n",
    "\\end{bmatrix}\n",
    "$$\n",
    "\n",
    "$$\n",
    "B = \n",
    "\\begin{bmatrix}\n",
    "\\frac{f_0}{H_1} & -\\frac{f_0}{H_1} & 0 & 0 \\\\\n",
    "0 & \\frac{f_0}{H_2} & -\\frac{f_0}{H_2} & 0 \\\\\n",
    "0 & 0 & \\frac{f_0}{H_3} & -\\frac{f_0}{H_3}\n",
    "\\end{bmatrix}\n",
    "$$\n",
    "\n",
    "$$\n",
    "e = \n",
    "\\begin{bmatrix}\n",
    "w_{ek} \\\\\n",
    "e_1 \\\\\n",
    "0 \\\\\n",
    "\\frac{\\delta _{ek}}{2 f_0} \\nabla _H^2 p_3\n",
    "\\end{bmatrix}\n",
    "$$\n",
    "\n",
    "Note that $A_2 = 0$ and $D = 0$, since I am running QGCM with no topography."
   ]
  },
  {
   "cell_type": "markdown",
   "metadata": {},
   "source": [
    "## Layer 1 Calculations"
   ]
  },
  {
   "cell_type": "markdown",
   "metadata": {},
   "source": [
    "$$\n",
    "\\begin{cases}\n",
    "q_{1t} = \\frac{1}{f_0} J(q_1,p_1) + \\frac{f_0}{H_1} (w_{ek} - e_1) - \\frac{A_4}{f_0} \\nabla ^6 p_1 \\\\\n",
    "f_0 q_1 = f_0 \\beta (y-y_0) + \\nabla _H ^2 p_1 - f_0 ^2 \\frac{1}{H_1 g'_1} (p_1 - p_2)\n",
    "\\end{cases}\n",
    "$$"
   ]
  },
  {
   "cell_type": "markdown",
   "metadata": {},
   "source": [
    "Rewrite governing equations in terms of only $p$; i.e. replace all instances of $q$ with $p$. Start by taking the time derivative of q in the above equation, and divide by $f_0$."
   ]
  },
  {
   "cell_type": "markdown",
   "metadata": {},
   "source": [
    "\\begin{equation}\n",
    "q_{1t} = \\beta \\frac{dy}{dt} + \\frac{1}{f_0} \\nabla _H ^2 p_{1t} - f_0  \\frac{1}{H_1 g'_1} (p_{1t} - p_{2t}) \n",
    "\\end{equation}"
   ]
  },
  {
   "cell_type": "markdown",
   "metadata": {},
   "source": [
    "Plug in for $q_t$ and $q$.\n",
    "\n",
    "\\begin{equation}\n",
    "\\begin{split}\n",
    "\\beta \\frac{dy}{dt} + \\frac{1}{f_0} \\nabla _H ^2 p_{1t} - f_0  \\frac{1}{H_1 g'_1} (p_{1t} - p_{2t}) = \\\\ \n",
    "\\frac{1}{f_0} J(\\beta (y-y_0),p_1) + \\frac{1}{f_0}  J(\\frac{1}{f_0} \\nabla _H ^2 p_1,p_1) + \\frac{1}{f_0} J(- f_0  \\frac{1}{H_1 g'_1} (p_1 - p_2),p_1) + \\\\ \n",
    "\\frac{f_0}{H_1} (w_{ek} - e_1) - \\frac{A_4}{f_0} \\nabla ^6 p_1\n",
    "\\end{split}\n",
    "\\end{equation}"
   ]
  },
  {
   "cell_type": "markdown",
   "metadata": {},
   "source": [
    "Rearrange terms and solve for $\\nabla _H^2 p_{1t}$.\n",
    "\n",
    "$$\n",
    "\\frac{1}{f_0} \\nabla _H ^2 p_{1t}  = \\underbrace{-\\beta \\frac{dy}{dt}}_\\text{y constant in time --> =0} +  f_0  \\frac{1}{H_1 g'_1} (p_{1t} - p_{2t})  \n",
    "+ \\frac{1}{f_0} \\beta \\frac{dp}{dx} + \\frac{1}{f_0}  J(\\frac{1}{f_0} \\nabla _H ^2 p_1,p_1) \\\\\n",
    "+ \\frac{1}{f_0} J( f_0  \\frac{1}{H_1 g'_1} p_2,p_1) +  \n",
    "\\frac{f_0}{H_1} (w_{ek} - e_1) - \\frac{A_4}{f_0} \\nabla ^6 p_1\n",
    "$$\n",
    "\n",
    "Simplify:\n",
    "\n",
    "$$\n",
    "\\nabla _H ^2 p_{1t}  = f_0^2  \\frac{1}{H_1 g'_1} (p_{1t} - p_{2t}) + \\beta \\frac{dp}{dx} + \\frac{1}{f_0}  J(\\nabla _H ^2 p_1,p_1) +  \\\\\n",
    "f_0  \\frac{1}{H_1 g'_1} J(p_2,p_1) + \\frac{f_0^2}{H_1} (w_{ek} - e_1) - A_4 \\nabla ^6 p_1 \n",
    "\\quad \\quad \\textbf{(1)}\n",
    "$$"
   ]
  },
  {
   "cell_type": "markdown",
   "metadata": {},
   "source": [
    "Now we write p as a Fourier series in the frequency space only:\n",
    "\n",
    "\\begin{equation}\n",
    "p(x,y,t) = \\sum_{\\omega} \\widehat{p}(x,y,\\omega) e^{i\\omega t}.\n",
    "\\end{equation}\n",
    "\n",
    "Similarly,\n",
    "\n",
    "\\begin{equation}\n",
    "e(x,y,t) = \\sum_{\\omega} \\widehat{e}(x,y,\\omega) e^{i\\omega t}\n",
    "\\end{equation}\n",
    "\n",
    "and\n",
    "\n",
    "\\begin{equation}\n",
    "w_{ek} (x,y,t) = \\sum_{\\omega} \\widehat{w_{ek}}(x,y,\\omega) e^{i\\omega t}.\n",
    "\\end{equation}"
   ]
  },
  {
   "cell_type": "markdown",
   "metadata": {},
   "source": [
    "Plug these into the equation $(1)$.\n",
    "\n",
    "$$\n",
    "-i \\omega \\widehat{\\nabla _H^2 p_1}  = f_0^2  i \\omega \\frac{1}{H_1 g'_1} (\\widehat{p_1} - \\widehat{p_2}) + \\beta \\widehat{p_{1x}} + \\frac{1}{f_0}  \\widehat{J(\\nabla _H ^2 p_1,p_1)} +  \\frac{f_0}{H_1 g'_1} \\widehat{J(p_2,p_1)} \\\\ \n",
    "+ \\frac{f_0^2}{H_1} (\\widehat{w_{ek}} - \\widehat{e_1}) - A_4 \\widehat{\\nabla ^6 p_1}\n",
    "\\quad \\quad \\textbf{(2)}\n",
    "$$"
   ]
  },
  {
   "cell_type": "markdown",
   "metadata": {},
   "source": [
    "Multiply equation $(2)$ by $C_1 \\widehat{p}^*$, where $C_1 = \\frac{H_1}{H_{tot}}$.\n",
    "\n",
    "$$\n",
    "-i \\omega C_1 \\widehat{p_1}^* \\widehat{\\nabla _H^2 p_1}  = C_1 f_0^2  i \\omega \\frac{1}{H_1 g'_1} \\widehat{|p_1|^2} - f_0^2  i \\omega \\frac{ C_1}{H_1 g'_1}\\widehat{p_1}^* \\widehat{p_2} + C_1 \\beta \\widehat{p_1}^* \\widehat{p_{1x}} + \\frac{ C_1}{f_0} \\widehat{p_1}^* \\widehat{J(\\nabla _H ^2 p_1,p_1)} \\\\\n",
    "+  \\frac{ C_1 f_0}{H_1 g'_1} \\widehat{p_1}^* \\widehat{J(p_2,p_1)} \n",
    "+ \\frac{ C_1 f_0^2}{H_1} \\widehat{p_1}^* (\\widehat{w_{ek}} - \\widehat{e_1}) - A_4  C_1 \\widehat{p_1}^* \\widehat{\\nabla ^6 p_1}\n",
    "$$\n",
    "\n",
    "Multiply equation $(2)^*$ by $C_1 \\widehat{p}$.\n",
    "\n",
    "$$\n",
    "i \\omega C_1 \\widehat{p_1} \\widehat{\\nabla _H^2 p_1}^*  = - C_1 f_0^2  i \\omega \\frac{1}{H_1 g'_1} \\widehat{|p_1|^2} + f_0^2  i \\omega \\frac{ C_1}{H_1 g'_1}\\widehat{p_1} \\widehat{p_2}^* + C_1 \\beta \\widehat{p_1} \\widehat{p_{1x}}^* + \\frac{ C_1}{f_0} \\widehat{p_1} \\widehat{J(\\nabla _H ^2 p_1,p_1)}^* \\\\\n",
    "+  \\frac{ C_1 f_0}{H_1 g'_1} \\widehat{p_1} \\widehat{J(p_2,p_1)}^* \n",
    "+ \\frac{ C_1 f_0^2}{H_1} \\widehat{p_1} (\\widehat{w_{ek}}^* - \\widehat{e_1}^*) - A_4  C_1 \\widehat{p_1} \\widehat{\\nabla ^6 p_1}^*\n",
    "$$\n",
    "\n",
    "Add together previous two equations and divide by 2.\n",
    "\n",
    "$$\n",
    "i \\omega C_1 \\left( \\widehat{p_1} \\widehat{\\nabla _H^2 p_1}^* - \\widehat{p_1}^* \\widehat{\\nabla _H^2 p_1} \\right) = \n",
    "C_1 f_0^2  i \\omega \\frac{1}{H_1 g'_1} \\widehat{|p_1|^2} - C_1 f_0^2  i \\omega \\frac{1}{H_1 g'_1} \\widehat{|p_1|^2}\n",
    "+ i \\omega \\frac{f_0^2 C_1}{H_1 g'_1} \\left(\\widehat{p_1} \\widehat{p_2}^* - \\widehat{p_1}^* \\widehat{p_2} \\right)\n",
    "+ C_1 \\beta \\left( \\widehat{p_1}^* \\widehat{p_{1x}} + \\widehat{p_1} \\widehat{p_{1x}}^* \\right)\n",
    "\\\\\n",
    "+ \\frac{C_1}{f_0} \\left(\\widehat{p_1}^* \\widehat{J(\\nabla _H ^2 p_1,p_1)} + \\widehat{p_1} \\widehat{J(\\nabla _H ^2 p_1,p_1)}^* \\right)\n",
    "+ \\frac{ C_1 f_0}{H_1 g'_1} \\left( \\widehat{p_1}^* \\widehat{J(p_2,p_1)} + \\widehat{p_1} \\widehat{J(p_2,p_1)}^* \\right)\n",
    "+ \\frac{ C_1 f_0^2}{H_1} \\left( \\widehat{p_1}^* (\\widehat{w_{ek}} - \\widehat{e_1}) + \\widehat{p_1} (\\widehat{w_{ek}}^* - \\widehat{e_1}^*) \\right)\n",
    "- A_4  C_1 \\left( \\widehat{p_1}^* \\widehat{\\nabla ^6 p_1} + \\widehat{p_1} \\widehat{\\nabla ^6 p_1}^* \\right)\n",
    "$$"
   ]
  },
  {
   "cell_type": "markdown",
   "metadata": {},
   "source": [
    "Collect terms using the property $\\frac{a^*b + b^*a}{2} = Re[a^*b]$.\n",
    "\n",
    "$$\n",
    "i \\omega C_1 \\left( \\widehat{p_1} \\widehat{\\nabla _H^2 p_1}^* - \\widehat{p_1}^* \\widehat{\\nabla _H^2 p_1} \\right) =\n",
    "i \\omega \\frac{f_0^2 C_1}{H_1 g'_1} \\left(\\widehat{p_1} \\widehat{p_2}^* - \\widehat{p_1}^* \\widehat{p_2} \\right) \\\\\n",
    "+ C_1 \\beta \\mathrm{Re} \\left[\\widehat{p_1}^* \\widehat{p_{1x}} \\right]\n",
    "+ \\frac{C_1}{f_0} \\mathrm{Re} \\left[ \\widehat{p_1}^* \\widehat{J(\\nabla _H ^2 p_1,p_1)} \\right]\n",
    "+ \\frac{ C_1 f_0}{H_1 g'_1} \\mathrm{Re} \\left[ \\widehat{p_1}^* \\widehat{J(p_2,p_1)} \\right]\n",
    "+ \\frac{ C_1 f_0^2}{H_1} \\mathrm{Re} \\left[ \\widehat{p_1}^* (\\widehat{w_{ek}} - \\widehat{e_1}) \\right]\n",
    "- A_4  C_1 \\mathrm{Re} \\left[ \\widehat{p_1}^* \\widehat{\\nabla ^6 p_1} \\right]\n",
    "$$\n",
    "\n",
    "Now repeat the process for layers 2 and 3."
   ]
  },
  {
   "cell_type": "markdown",
   "metadata": {},
   "source": [
    "## Layer 2 Calculations"
   ]
  },
  {
   "cell_type": "markdown",
   "metadata": {},
   "source": [
    "\\begin{equation}\n",
    "\\begin{matrix}\n",
    "\\begin{cases}\n",
    "q_{2t} = \\frac{1}{f_0} J(q_2,p_2) + \\frac{f_0}{H_2} e_1 - \\frac{A_4}{f_0} \\nabla ^6 p_2 \\\\\n",
    "f_0 q_2 = f_0 \\beta (y-y_0) + \\nabla _H ^2 p_2 -  \\frac{f_0^2}{H_2} \\left( \\frac{1}{g'_1} (p_2 - p_1) + \\frac{1}{g'_2} (p_2 - p_3) \\right) \n",
    "\\quad\\quad \\textbf{(3)}\n",
    "\\end{cases}\n",
    "\\end{matrix}\n",
    "\\end{equation}"
   ]
  },
  {
   "cell_type": "markdown",
   "metadata": {},
   "source": [
    "Rewrite governing equations in terms of only $p$. Take the time derivative of equation $(3)$, and divide by $f_0$.\n",
    "\n",
    "\\begin{equation}\n",
    "q_{2t} = \\beta \\frac{dy}{dt} + \\frac{1}{f_0} \\nabla _H ^2 p_{2t} -  \\frac{f_0}{H_2} \\left( \\frac{1}{g'_1} (p_{2t} - p_{1t}) + \\frac{1}{g'_2} (p_{2t} - p_{3t}) \\right) \n",
    "\\end{equation}\n",
    "\n",
    "Plug in for $q_t$ and $q$.\n",
    "\n",
    "\\begin{equation}\n",
    "\\begin{split}\n",
    "\\beta \\frac{dy}{dt} + \\frac{1}{f_0} \\nabla _H ^2 p_{2t} -  \\frac{f_0}{H_2} \\left( \\frac{1}{g'_1} (p_{2t} - p_{1t}) + \\frac{1}{g'_2} (p_{2t} - p_{3t}) \\right) = \\\\ \n",
    "\\frac{1}{f_0} J(\\beta (y-y_0),p_2) + \\frac{1}{f_0}  J(\\frac{1}{f_0} \\nabla _H ^2 p_2,p_2) + \\frac{1}{f_0} J( f_0  \\frac{1}{H_2 g'_1} p_1,p_2) + \\frac{1}{f_0} J(f_0  \\frac{1}{H_2 g'_2} p_3,p_2) \\\\ \n",
    "+ \\frac{f_0}{H_2} e_1 - \\frac{A_4}{f_0} \\nabla ^6 p_2\n",
    "\\end{split}\n",
    "\\end{equation}"
   ]
  },
  {
   "cell_type": "markdown",
   "metadata": {},
   "source": [
    "Rearrange terms and solve for $\\nabla _H^2 p_{2t}$.\n",
    "\n",
    "$$\n",
    "\\frac{1}{f_0} \\nabla _H ^2 p_{2t}  = \\underbrace{-\\beta \\frac{dy}{dt}}_\\text{y constant in time --> =0} +  \\frac{f_0}{H_2} \\left( \\frac{1}{g'_1} (p_{2t} - p_{1t}) + \\frac{1}{g'_2} (p_{2t} - p_{3t}) \\right) + \\frac{1}{f_0} \\beta \\frac{dp_2}{dx} + \\frac{1}{f_0}  J(\\frac{1}{f_0} \\nabla _H ^2 p_2,p_2) \\\\\n",
    "+ \\frac{1}{f_0} J( f_0  \\frac{1}{H_2 g'_1} p_1,p_2) + \\frac{1}{f_0} J(f_0  \\frac{1}{H_2 g'_2} p_3,p_2) + \\frac{f_0}{H_2} e_1 - \\frac{A_4}{f_0} \\nabla ^6 p_2\n",
    "$$\n",
    "\n",
    "Simplify:\n",
    "\n",
    "$$\n",
    "\\nabla _H ^2 p_{2t}  = \\frac{f_0^2}{H_2} \\left( \\frac{1}{g'_1} (p_{2t} - p_{1t}) + \\frac{1}{g'_2} (p_{2t} - p_{3t}) \\right) + \\beta \\frac{dp_2}{dx} + \\frac{1}{f_0}  J(\\nabla _H ^2 p_2,p_2) +  \\frac{f_0}{H_2 g'_1} J(p_1,p_2) + \\frac{f_0}{H_2 g'_2} J(p_3,p_2) + \\frac{f_0^2}{H_2} e_1 - A_4 \\nabla ^6 p_2\n",
    "$$"
   ]
  },
  {
   "cell_type": "markdown",
   "metadata": {},
   "source": [
    "Now we write p and e as a Fourier Series as in Layer 1, and we plug these into the above equation.\n",
    "\n",
    "$$\n",
    "i \\omega \\widehat{\\nabla _H^2 p_2}  = i \\omega \\frac{f_0^2 }{H_2} \\left( \\frac{1}{g'_1} (\\widehat{p_{2}} - \\widehat{p_{1}}) + \\frac{1}{g'_2} (\\widehat{p_{2}} - \\widehat{p_{3}}) \\right) + \\beta \\widehat{p_{2x}} \n",
    "+ \\frac{1}{f_0}  \\widehat{J(\\nabla _H ^2 p_2,p_2)} \\\\\n",
    "+  \\frac{f_0}{H_2 g'_1} \\widehat{J(p_1,p_2)} + \\frac{f_0}{H_2 g'_2} \\widehat{J(p_3,p_2)} + \\frac{f_0^2}{H_2} \\widehat{e_1} - A_4 \\widehat{\\nabla ^6 p_2}\n",
    "$$"
   ]
  },
  {
   "cell_type": "markdown",
   "metadata": {},
   "source": [
    "Multiply $(4)$ by $C_2 \\widehat{p_2}^*$, where $C_2 = \\cfrac{H_2}{H_{tot}}$.\n",
    "\n",
    "$$\n",
    "i \\omega C_2 \\widehat{p_2}^* \\widehat{\\nabla _H^2 p_2}  =  i \\omega \\frac{C_2 f_0^2}{H_2 g'_1} \\widehat{p_2}^* \\left( \\widehat{p_{2}} - \\widehat{p_{1}} \\right) +  i \\omega \\frac{C_2 f_0^2}{H_2 g'_2} \\widehat{p_2}^* \\left( \\widehat{p_{2}} - \\widehat{p_{3}} \\right) + C_2 \\beta \\widehat{p_2}^* \\widehat{p_{2x}} \n",
    "+ \\frac{C_2}{f_0} \\widehat{p_2}^* \\widehat{J(\\nabla _H ^2 p_2,p_2)} \\\\\n",
    "+  \\frac{C_2 f_0}{H_2 g'_1} \\widehat{p_2}^* \\widehat{J(p_1,p_2)} + \\frac{C_2 f_0}{H_2 g'_2} \\widehat{p_2}^* \\widehat{J(p_3,p_2)} + \\frac{C_2 f_0^2}{H_2} \\widehat{p_2}^* \\widehat{e_1} - C_2 A_4 \\widehat{p_2}^* \\widehat{\\nabla ^6 p_2}\n",
    "$$\n",
    "\n",
    "Multiply $(4)^*$ by $C_2 \\widehat{p_2}$.\n",
    "\n",
    "$$\n",
    "- i \\omega C_2 \\widehat{p_2} \\widehat{\\nabla _H^2 p_2}^*  = - i \\omega \\frac{C_2 f_0^2}{H_2 g'_1} \\widehat{p_2} \\left( \\widehat{p_{2}} - \\widehat{p_{1}} \\right) ^* - i \\omega \\frac{C_2 f_0^2}{H_2 g'_2} \\widehat{p_2} \\left( \\widehat{p_{2}} - \\widehat{p_{3}} \\right) ^* \n",
    "+ C_2 \\beta \\widehat{p_2} \\widehat{p_{2x}}^* \n",
    "+ \\frac{C_2}{f_0} \\widehat{p_2} \\widehat{J(\\nabla _H ^2 p_2,p_2)}^* \\\\\n",
    "+  \\frac{C_2 f_0}{H_2 g'_1} \\widehat{p_2} \\widehat{J(p_1,p_2)}^* + \\frac{C_2 f_0}{H_2 g'_2} \\widehat{p_2} \\widehat{J(p_3,p_2)}^* + \\frac{C_2 f_0^2}{H_2} \\widehat{p_2} \\widehat{e_1}^* - C_2 A_4 \\widehat{p_2} \\widehat{\\nabla ^6 p_2}^*\n",
    "$$\n",
    "\n",
    "Add together previous two equations and divide by 2.\n",
    "\n",
    "$$\n",
    "i \\omega \\frac{C_2}{2} \\left( \\widehat{p_2}^* \\widehat{\\nabla _H^2 p_2} - \\widehat{p_2} \\widehat{\\nabla _H^2 p_2}^* \\right) = \n",
    "i \\omega \\frac{C_2 f_0^2}{2 H_2 g'_1} \\left( \\widehat{p_2} \\widehat{p_{1}}^* -\\widehat{p_2}^* \\widehat{p_{1}} \\right)  + i \\omega \\frac{C_2 f_0^2}{2 H_2 g'_2} \\left(\\widehat{p_2} \\widehat{p_{3}}^* - \\widehat{p_{2}}^* \\widehat{p_{3}}) \\right) \n",
    "+ \\frac{C_2 \\beta}{2} \\left( \\widehat{p_2}^* \\widehat{p_{2x}} + \\widehat{p_2} \\widehat{p_{2x}}^* \\right)\n",
    "+ \\frac{C_2}{2 f_0} \\left( \\widehat{p_2}^* \\widehat{J(\\nabla _H ^2 p_2,p_2)} + \\widehat{p_2} \\widehat{J(\\nabla _H ^2 p_2,p_2)}^* \\right) \\\\\n",
    "+  \\frac{C_2 f_0}{2 H_2 g'_1} \\left(\\widehat{p_2}^* \\widehat{J(p_1,p_2)} + \\widehat{p_2} \\widehat{J(p_1,p_2)}^* \\right) \n",
    "+ \\frac{C_2 f_0}{2 H_2 g'_2} \\left(\\widehat{p_2}^* \\widehat{J(p_3,p_2)} + \\widehat{p_2} \\widehat{J(p_3,p_2)}^* \\right) \n",
    "+ \\frac{C_2 f_0^2}{2 H_2} \\left( \\widehat{p_2}^* \\widehat{e_1} + \\widehat{p_2} \\widehat{e_1}^* \\right) \n",
    "- \\frac{C_2 A_4}{2} \\left( \\widehat{p_2}^* \\widehat{\\nabla ^6 p_2} + \\widehat{p_2} \\widehat{\\nabla ^6 p_2}^* \\right)\n",
    "$$"
   ]
  },
  {
   "cell_type": "markdown",
   "metadata": {},
   "source": [
    "Collect terms using the property $\\cfrac{a^*b + b^*a}{2} = Re[a^*b]$.\n",
    "\n",
    "$$\n",
    "i \\omega \\frac{C_2}{2} \\left( \\widehat{p_2}^* \\widehat{\\nabla _H^2 p_2} - \\widehat{p_2} \\widehat{\\nabla _H^2 p_2}^* \\right) = \n",
    "i \\omega \\frac{C_2 f_0^2}{2 H_2 g'_1} \\left( \\widehat{p_2} \\widehat{p_{1}}^* -\\widehat{p_2}^* \\widehat{p_{1}} \\right)  \n",
    "+ i \\omega \\frac{C_2 f_0^2}{2 H_2 g'_2} \\left(\\widehat{p_2} \\widehat{p_{3}}^* - \\widehat{p_{2}}^* \\widehat{p_{3}}) \\right) \n",
    "+ C_2 \\beta \\mathrm{Re} \\left[ \\widehat{p_2}^* \\widehat{p_{2x}} \\right]\n",
    "+ \\frac{C_2}{f_0} \\mathrm{Re} \\left[ \\widehat{p_2}^* \\widehat{J(\\nabla _H ^2 p_2,p_2)} \\right]\n",
    "+ \\frac{C_2 f_0}{H_2 g'_1} \\mathrm{Re} \\left[\\widehat{p_2}^* \\widehat{J(p_1,p_2)} \\right] \n",
    "+ \\frac{C_2 f_0}{H_2 g'_2} \\mathrm{Re} \\left[\\widehat{p_2}^* \\widehat{J(p_3,p_2)} \\right] \n",
    "+ \\frac{C_2 f_0^2}{H_2} \\mathrm{Re} \\left[ \\widehat{p_2}^* \\widehat{e_1} \\right] \n",
    "- C_2 A_4 \\mathrm{Re} \\left[ \\widehat{p_2}^* \\widehat{\\nabla ^6 p_2} \\right]\n",
    "$$\n",
    "\n",
    "Lastly, let's do the same for layer 3!"
   ]
  },
  {
   "cell_type": "markdown",
   "metadata": {},
   "source": [
    "## Layer 3 Calculations"
   ]
  },
  {
   "cell_type": "markdown",
   "metadata": {},
   "source": [
    "Governing equations for layer 3:\n",
    "\n",
    "\\begin{equation}\n",
    "\\begin{matrix}\n",
    "\\begin{cases}\n",
    "q_{3t} = \\frac{1}{f_0} J(q_3,p_3) - \\frac{f_0}{H_3} \\left( \\frac{\\delta _{ek}}{2 f_0} \\nabla ^2_H p_3 \\right) - \\frac{A_4}{f_0} \\nabla ^6 p_3 \\\\\n",
    "f_0 q_3 = f_0 \\beta (y-y_0) + \\nabla _H ^2 p_3 -  \\frac{f_0^2}{H_3 g'_2} \\left(p_3 - p_2 \\right) \n",
    "\\quad\\quad \\textbf{(5)}\n",
    "\\end{cases}\n",
    "\\end{matrix}\n",
    "\\end{equation}"
   ]
  },
  {
   "cell_type": "markdown",
   "metadata": {},
   "source": [
    "Rewrite governing equations in terms of only $p$. Take the time derivative of equation $(5)$, and divide by $f_0$.\n",
    "\n",
    "\\begin{equation}\n",
    "q_{3t} = \\beta \\frac{dy}{dt} + \\frac{1}{f_0} \\nabla _H ^2 p_{3t} -  \\frac{f_0}{H_3 g'_2} (p_{3t} - p_{2t})  \n",
    "\\end{equation}\n",
    "\n",
    "Plug in for $q_t$ and $q$.\n",
    "\n",
    "\\begin{equation}\n",
    "\\begin{split}\n",
    "\\beta \\frac{dy}{dt} + \\frac{1}{f_0} \\nabla _H ^2 p_{3t} -  \\frac{f_0}{H_3} \\left( \\frac{1}{g'_2} (p_{3t} - p_{2t}) \\right) = \\frac{1}{f_0} J(\\beta (y-y_0),p_3) + \\frac{1}{f_0}  J(\\frac{1}{f_0} \\nabla _H ^2 p_3,p_3) + \\\\\n",
    "\\frac{1}{f_0} J(f_0  \\frac{1}{H_3 g'_2} p_2,p_3) - \\frac{f_0}{H_3} \\left( \\frac{\\delta _{ek}}{2 f_0} \\nabla ^2_H p_3 \\right) - \\frac{A_4}{f_0} \\nabla ^6 p_3\n",
    "\\end{split}\n",
    "\\end{equation}"
   ]
  },
  {
   "cell_type": "markdown",
   "metadata": {},
   "source": [
    "Rearrange terms and solve for $\\nabla _H^2 p_{3t}$.\n",
    "\n",
    "$$\n",
    "\\frac{1}{f_0} \\nabla _H ^2 p_{3t}  = \\underbrace{-\\beta \\frac{dy}{dt}}_\\text{y constant in time --> =0} +  \\frac{f_0}{H_3 g'_2} (p_{3t} - p_{2t}) + \\frac{1}{f_0} \\beta \\frac{dp_3}{dx} + \\frac{1}{f_0 ^2} J( \\nabla _H ^2 p_3,p_3) \\\\\n",
    "+ \\frac{1}{f_0} J( f_0  \\frac{1}{H_3 g'_2} p_2,p_3) - \\frac{f_0}{H_3} \\left( \\frac{\\delta _{ek}}{2 f_0} \\nabla ^2_H p_3 \\right) - \\frac{A_4}{f_0} \\nabla ^6 p_3\n",
    "$$\n",
    "\n",
    "Simplify:\n",
    "\n",
    "$$\n",
    "\\nabla _H ^2 p_{3t}  =  \\frac{f_0^2}{H_3 g'_2} (p_{2t} - p_{3t}) + \\beta \\frac{dp_3}{dx} + \\frac{1}{f_0}  J(\\nabla _H ^2 p_3,p_3) \\\\\n",
    "+ J(\\frac{f_0}{H_3 g'_2} p_2,p_3) - \\frac{f_0 ^2}{H_3} \\left( \\frac{\\delta _{ek}}{2 f_0} \\nabla ^2_H p_3 \\right) - A_4 \\nabla ^6 p_3\n",
    "$$"
   ]
  },
  {
   "cell_type": "markdown",
   "metadata": {},
   "source": [
    "Now we write p and e as a Fourier Series as in Layers 1 and 2, and we plug these into the above equation.\n",
    "\n",
    "$$\n",
    "i \\omega \\widehat{\\nabla _H^2 p_3}  =  i \\omega \\frac{f_0^2 }{H_3 g'_2} (\\widehat{p_{2}} - \\widehat{p_{3}}) + \\beta \\widehat{p_{3x}} \\\\\n",
    "+ \\frac{1}{f_0}  \\widehat{J(\\nabla _H ^2 p_3,p_3)} + \\frac{f_0}{H_3 g'_2} \\widehat{J(p_2,p_3)}\n",
    "- \\frac{f_0 ^2 \\delta _{ek}}{2 f_0 H_3} \\widehat{\\nabla ^2_H p_3} - A_4 \\widehat{\\nabla ^6 p_3}\n",
    "\\quad\\quad \\textbf{(6)}\n",
    "$$"
   ]
  },
  {
   "cell_type": "markdown",
   "metadata": {},
   "source": [
    "Multiply $(6)$ by $C_3 \\widehat{p_3}^*$, where $C_3 = \\frac{H_3}{H_{tot}}$.\n",
    "\n",
    "$$\n",
    "i \\omega C_3 \\widehat{p_3}^* \\widehat{\\nabla _H^2 p_3}  =  i \\omega \\frac{C_3 f_0^2}{H_3 g'_2} \\widehat{p_3}^* (\\widehat{p_{2}} - \\widehat{p_{3}}) + C_3 \\beta \\widehat{p_3}^* \\widehat{p_{3x}} \\\\\n",
    "+ \\frac{C_3}{f_0} \\widehat{p_3}^* \\widehat{J(\\nabla _H ^2 p_3,p_3)} + \\frac{C_3 f_0}{H_3 g'_2} \\widehat{p_3}^* \\widehat{J(p_2,p_3)}\n",
    "- \\frac{C_3 f_0 ^2 \\delta _{ek}}{2 f_0 H_3} \\widehat{p_3}^* \\widehat{\\nabla ^2_H p_3} - C_3 A_4 \\widehat{p_3}^* \\widehat{\\nabla ^6 p_3}\n",
    "$$\n",
    "\n",
    "Multiply $(6)^*$ by $C_3 \\widehat{p_3}$.\n",
    "\n",
    "$$\n",
    "-i \\omega C_3 \\widehat{p_3} \\widehat{\\nabla _H^2 p_3}^*  = - i \\omega \\frac{C_3 f_0^2}{H_3 g'_2} \\widehat{p_3} (\\widehat{p_{2}} - \\widehat{p_{3}})^* + C_3 \\beta \\widehat{p_3} \\widehat{p_{3x}}^* \\\\\n",
    "+ \\frac{C_3}{f_0} \\widehat{p_3} \\widehat{J(\\nabla _H ^2 p_3,p_3)}^* + \\frac{C_3 f_0}{H_3 g'_2} \\widehat{p_3} \\widehat{J(p_2,p_3)}^*\n",
    "- \\frac{C_3 f_0 ^2 \\delta _{ek}}{2 f_0 H_3} \\widehat{p_3} \\widehat{\\nabla ^2_H p_3}^* - C_3 A_4 \\widehat{p_3} \\widehat{\\nabla ^6 p_3}^*\n",
    "$$\n",
    "\n",
    "Add together the previous two equations and divide by 2.\n",
    "\n",
    "$$\n",
    "i \\omega \\frac{C_3}{2} \\left( \\widehat{p_3}^* \\widehat{\\nabla _H^2 p_3} - \\widehat{p_3} \\widehat{\\nabla _H^2 p_3}^* \\right) = \n",
    "i \\omega \\frac{C_3 f_0^2}{2 H_3 g'_2} \\left(\\widehat{p_3}^* \\widehat{p_{2}} - \\widehat{p_{3}} \\widehat{p_{2}}^*) \\right)\n",
    "+ \\frac{C_3 \\beta}{2} \\left( \\widehat{p_3}^* \\widehat{p_{3x}} + \\widehat{p_3} \\widehat{p_{3x}}^* \\right) \\\\\n",
    "+ \\frac{C_3}{2 f_0} \\left( \\widehat{p_3}^* \\widehat{J(\\nabla _H ^2 p_3,p_3)} + \\widehat{p_3} \\widehat{J(\\nabla _H ^2 p_3,p_3)}^* \\right)\n",
    "+ \\frac{C_3 f_0}{2 H_3 g'_2} \\left( \\widehat{p_3}^* \\widehat{J(p_2,p_3)} + \\widehat{p_3} \\widehat{J(p_2,p_3)}^* \\right)\n",
    "- \\frac{C_3 f_0 ^2 \\delta _{ek}}{4 f_0 H_3} \\left( \\widehat{p_3}^* \\widehat{\\nabla ^2_H p_3} + \\widehat{p_3} \\widehat{\\nabla ^2_H p_3}^* \\right) \n",
    "- \\frac{C_3 A_4}{2} \\left( \\widehat{p_3}^* \\widehat{\\nabla ^6 p_3} + \\widehat{p_3}^* \\widehat{\\nabla ^6 p_3} \\right) \n",
    "$$"
   ]
  },
  {
   "cell_type": "markdown",
   "metadata": {},
   "source": [
    "Collect terms using the property $\\cfrac{a^*b + b^*a}{2} = \\mathrm{Re} \\left[ a^*b \\right]$.\n",
    "\n",
    "$$\n",
    "i \\omega \\frac{C_3}{2} \\left( \\widehat{p_3}^* \\widehat{\\nabla _H^2 p_3} - \\widehat{p_3} \\widehat{\\nabla _H^2 p_3}^* \\right) = \n",
    "i \\omega \\frac{C_3 f_0^2}{2 H_3 g'_2} \\left(\\widehat{p_3}^* \\widehat{p_{2}} - \\widehat{p_{3}} \\widehat{p_{2}}^*) \\right)\n",
    "+ C_3 \\beta \\mathrm{Re} \\left[ \\widehat{p_3}^* \\widehat{p_{3x}} \\right] \\\\\n",
    "+ \\frac{C_3}{f_0} \\mathrm{Re} \\left[ \\widehat{p_3}^* \\widehat{J(\\nabla _H ^2 p_3,p_3)} \\right]\n",
    "+ \\frac{C_3 f_0}{H_3 g'_2} \\mathrm{Re} \\left[ \\widehat{p_3}^* \\widehat{J(p_2,p_3)} \\right]\n",
    "- \\frac{C_3 f_0 ^2 \\delta _{ek}}{2 f_0 H_3} \\mathrm{Re} \\left[ \\widehat{p_3}^* \\widehat{\\nabla ^2_H p_3} \\right] \n",
    "- C_3 A_4 \\mathrm{Re} \\left[ \\widehat{p_3}^* \\widehat{\\nabla ^6 p_3} \\right] \n",
    "$$"
   ]
  },
  {
   "cell_type": "markdown",
   "metadata": {},
   "source": [
    "## Sum layer equations together"
   ]
  },
  {
   "cell_type": "markdown",
   "metadata": {},
   "source": [
    "Layer 1:\n",
    "$$\n",
    "i \\omega \\frac{C_1}{2} \\left( \\widehat{p_1} \\widehat{\\nabla _H^2 p_1}^* - \\widehat{p_1}^* \\widehat{\\nabla _H^2 p_1} \\right) =\n",
    "i \\omega \\frac{f_0^2 C_1}{2 H_1 g'_1} \\left(\\widehat{p_1} \\widehat{p_2}^* - \\widehat{p_1}^* \\widehat{p_2} \\right) \\\\\n",
    "+ C_1 \\beta \\mathrm{Re} \\left[\\widehat{p_1}^* \\widehat{p_{1x}} \\right]\n",
    "+ \\frac{C_1}{f_0} \\mathrm{Re} \\left[ \\widehat{p_1}^* \\widehat{J(\\nabla _H ^2 p_1,p_1)} \\right]\n",
    "+ \\frac{ C_1 f_0}{H_1 g'_1} \\mathrm{Re} \\left[ \\widehat{p_1}^* \\widehat{J(p_2,p_1)} \\right]\n",
    "+ \\frac{ C_1 f_0^2}{H_1} \\mathrm{Re} \\left[ \\widehat{p_1}^* (\\widehat{w_{ek}} - \\widehat{e_1}) \\right]\n",
    "- C_1 A_4  \\mathrm{Re} \\left[ \\widehat{p_1}^* \\widehat{\\nabla ^6 p_1} \\right]\n",
    "$$\n",
    "\n",
    "Layer 2:\n",
    "$$\n",
    "i \\omega \\frac{C_2}{2} \\left( \\widehat{p_2}^* \\widehat{\\nabla _H^2 p_2} - \\widehat{p_2} \\widehat{\\nabla _H^2 p_2}^* \\right) = \n",
    "i \\omega \\frac{C_2 f_0^2}{2 H_2 g'_1} \\left( \\widehat{p_2} \\widehat{p_{1}}^* -\\widehat{p_2}^* \\widehat{p_{1}} \\right)  \n",
    "+ i \\omega \\frac{C_2 f_0^2}{2 H_2 g'_2} \\left(\\widehat{p_2} \\widehat{p_{3}}^* - \\widehat{p_{2}}^* \\widehat{p_{3}}) \\right) \n",
    "+ C_2 \\beta \\mathrm{Re} \\left[ \\widehat{p_2}^* \\widehat{p_{2x}} \\right]\n",
    "+ \\frac{C_2}{f_0} \\mathrm{Re} \\left[ \\widehat{p_2}^* \\widehat{J(\\nabla _H ^2 p_2,p_2)} \\right]\n",
    "+ \\frac{C_2 f_0}{H_2 g'_1} \\mathrm{Re} \\left[\\widehat{p_2}^* \\widehat{J(p_1,p_2)} \\right] \n",
    "+ \\frac{C_2 f_0}{H_2 g'_2} \\mathrm{Re} \\left[\\widehat{p_2}^* \\widehat{J(p_3,p_2)} \\right] \n",
    "+ \\frac{C_2 f_0^2}{H_2} \\mathrm{Re} \\left[ \\widehat{p_2}^* \\widehat{e_1} \\right] \n",
    "- C_2 A_4 \\mathrm{Re} \\left[ \\widehat{p_2}^* \\widehat{\\nabla ^6 p_2} \\right]\n",
    "$$\n",
    "\n",
    "Layer 3:\n",
    "$$\n",
    "i \\omega \\frac{C_3}{2} \\left( \\widehat{p_3}^* \\widehat{\\nabla _H^2 p_3} - \\widehat{p_3} \\widehat{\\nabla _H^2 p_3}^* \\right) = \n",
    "i \\omega \\frac{C_3 f_0^2}{2 H_3 g'_2} \\left(\\widehat{p_3}^* \\widehat{p_{2}} - \\widehat{p_{3}} \\widehat{p_{2}}^*) \\right)\n",
    "+ C_3 \\beta \\mathrm{Re} \\left[ \\widehat{p_3}^* \\widehat{p_{3x}} \\right] \\\\\n",
    "+ \\frac{C_3}{f_0} \\mathrm{Re} \\left[ \\widehat{p_3}^* \\widehat{J(\\nabla _H ^2 p_3,p_3)} \\right]\n",
    "+ \\frac{C_3 f_0}{H_3 g'_2} \\mathrm{Re} \\left[ \\widehat{p_3}^* \\widehat{J(p_2,p_3)} \\right]\n",
    "- \\frac{C_3 f_0 ^2 \\delta _{ek}}{2 f_0 H_3} \\mathrm{Re} \\left[ \\widehat{p_3}^* \\widehat{\\nabla ^2_H p_3} \\right] \n",
    "- C_3 A_4 \\mathrm{Re} \\left[ \\widehat{p_3}^* \\widehat{\\nabla ^6 p_3} \\right] \n",
    "$$"
   ]
  },
  {
   "cell_type": "markdown",
   "metadata": {},
   "source": [
    "Sum the equations term by term, and plug in for the C constants: $C_k = \\cfrac{H_k}{H_{tot}}$.\n",
    "\n",
    "Term 1:\n",
    "$$\n",
    "\\underbrace{\n",
    "i \\omega C_1 \\left( \\widehat{p_1} \\widehat{\\nabla _H^2 p_1}^* - \\widehat{p_1}^* \\widehat{\\nabla _H^2 p_1} \\right)\n",
    "+ i \\omega \\frac{C_2}{2} \\left( \\widehat{p_2}^* \\widehat{\\nabla _H^2 p_2} - \\widehat{p_2} \\widehat{\\nabla _H^2 p_2}^* \\right)\n",
    "+ i \\omega \\frac{C_3}{2} \\left( \\widehat{p_3}^* \\widehat{\\nabla _H^2 p_3} - \\widehat{p_3} \\widehat{\\nabla _H^2 p_3}^* \\right) \\\\\n",
    "= \\frac{i \\omega}{H_{tot}} \\left[ H_1 \\left( \\widehat{p_1} \\widehat{\\nabla _H^2 p_1}^* - \\widehat{p_1}^* \\widehat{\\nabla _H^2 p_1} \\right) + H_2 \\left( \\widehat{p_2}^* \\widehat{\\nabla _H^2 p_2} - \\widehat{p_2} \\widehat{\\nabla _H^2 p_2}^* \\right) + H_3 \\left( \\widehat{p_3}^* \\widehat{\\nabla _H^2 p_3} - \\widehat{p_3} \\widehat{\\nabla _H^2 p_3}^* \\right) \\right]\n",
    "}_\\text{Integrates to zero over entire domain}\n",
    "$$\n",
    "\n",
    "Term 2:\n",
    "$$\n",
    "\\frac{1}{2} f_0^2  i \\omega \\frac{C_1}{H_1 g'_1} (\\widehat{p_2} \\widehat{p_1}^* - \\widehat{p_2}^* \\widehat{p_1})\n",
    "+ \\frac{1}{2} f_0^2  i \\omega \\frac{C_2}{H_2 g'_1} (\\widehat{p_2}^* \\widehat{p_1} - \\widehat{p_2} \\widehat{p_1}^*) \n",
    "+ \\frac{1}{2} f_0^2  i \\omega \\frac{C_2}{H_2 g'_2} (\\widehat{p_2}^* \\widehat{p_3} - \\widehat{p_2} \\widehat{p_3}^*)\n",
    "+ \\frac{1}{2} i \\omega \\frac{C_3 f_0^2 }{H_3 g'_2} (\\widehat{p_3}^* \\widehat{p_2} - \\widehat{p_3} \\widehat{p_2}^*)\n",
    "\\underbrace{= 0}_\\text{Terms sum to zero}\n",
    "$$\n",
    "\n",
    "Term 3:\n",
    "$$\n",
    "C_1 \\beta \\mathrm{Re} \\left[\\widehat{p_1}^* \\widehat{p_{1x}} \\right]\n",
    "+ C_2 \\beta \\mathrm{Re} \\left[ \\widehat{p_2}^* \\widehat{p_{2x}} \\right]\n",
    "+ C_3 \\beta \\mathrm{Re} \\left[ \\widehat{p_3}^* \\widehat{p_{3x}} \\right]\n",
    "$$\n",
    "\n",
    "Term 4:\n",
    "$$\n",
    "\\frac{H_1}{f_0 H_{tot}}  \\mathrm{Re} \\left[ \\widehat{p_1}^* \\widehat{J(\\nabla _H ^2 p_1,p_1)} \\right] \n",
    "+ \\frac{H_2}{f_0 H_{tot}}  \\mathrm{Re} \\left[ \\widehat{p_2}^* \\widehat{J(\\nabla _H ^2 p_2,p_2)} \\right] \n",
    "+ \\frac{H_3}{f_0 H_{tot}}  \\mathrm{Re} \\left[ \\widehat{p_3}^* \\widehat{J(\\nabla _H ^2 p_3,p_3)} \\right]\n",
    "$$\n",
    "\n",
    "Term 5:\n",
    "$$\n",
    "\\frac{f_0}{H_{tot} g'_1} \\mathrm{Re} \\left[ \\widehat{p_1}^* \\widehat{J(p_2,p_1)} \\right]\n",
    "+ \\frac{f_0}{H_{tot} g'_1} \\mathrm{Re} \\left[ \\widehat{p_2}^* \\widehat{J(p_1,p_2)} \\right] \n",
    "+ \\frac{f_0}{H_{tot} g'_2} \\mathrm{Re} \\left[ \\widehat{p_2}^* \\widehat{J(p_3,p_2)} \\right] \n",
    "+ \\frac{f_0}{H_{tot} g'_2} \\mathrm{Re} \\left[ \\widehat{p_3}^* \\widehat{J(p_2,p_3)} \\right] \\\\\n",
    "= \\frac{f_0}{H_{tot} g'_1} \\mathrm{Re} \\left[ (\\widehat{p_2}^* - \\widehat{p_1}^*) \\widehat{J(p_1,p_2)} \\right]\n",
    "+ \\frac{f_0}{H_{tot} g'_2} \\mathrm{Re} \\left[ (\\widehat{p_3}^* - \\widehat{p_2}^*) \\widehat{J(p_2,p_3)} \\right] \\\\\n",
    "= \\frac{f_0}{H_{tot} g'_1} \\mathrm{Re} \\left[ (\\widehat{p_2 - p_1}^*) \\widehat{J(p_1,p_2)} \\right]\n",
    "+ \\frac{f_0}{H_{tot} g'_2} \\mathrm{Re} \\left[ (\\widehat{p_3 - p_2}^*) \\widehat{J(p_2,p_3)} \\right]\n",
    "$$\n",
    "\n",
    "Term 6:\n",
    "$$\n",
    "\\frac{f_0^2 C_1}{H_1} \\mathrm{Re} \\left[ \\widehat{p_1}^* \\widehat{w_{ek}} \\right] \n",
    "\\underbrace{\n",
    "-  \\frac{f_0^2 C_1}{H_1} \\mathrm{Re} \\left[ \\widehat{p_1}^*  \\widehat{e_1} \\right]  \n",
    "+  \\frac{f_0^2 C_2}{H_2} \\mathrm{Re} \\left[ \\widehat{p_2}^*  \\widehat{e_1} \\right] \n",
    "}\n",
    "- C_3 \\frac{f_0 \\delta _{ek}}{2 H_3} \\mathrm{Re} \\left[ \\widehat{p_3}^*  \\widehat{\\nabla ^2_H p_3} \\right] \\\\\n",
    "= \\frac{f_0^2}{H_{tot}} \\mathrm{Re} \\left[ (\\widehat{p_2}^* - \\widehat{p_1}^*)  \\widehat{e_1} \\right]  \\\\\n",
    "= \\frac{f_0^2}{H_{tot}} \\mathrm{Re} \\left[ (\\widehat{p_2 - p_1}^*)  \\widehat{e_1} \\right] \n",
    "$$\n",
    "\n",
    "Term 7:\n",
    "$$\n",
    "- A_4 \\frac{H_1}{H_{tot}} \\mathrm{Re} \\left[ \\widehat{p_1}^* \\widehat{\\nabla ^6 p_1} \\right]\n",
    "- A_4 \\frac{H_2}{H_{tot}} \\mathrm{Re} \\left[ \\widehat{p_2}^* \\widehat{\\nabla ^6 p_2} \\right]\n",
    "- A_4 \\frac{H_3}{H_{tot}} \\mathrm{Re} \\left[ \\widehat{p_3}^* \\widehat{\\nabla ^6 p_3} \\right]\n",
    "$$"
   ]
  },
  {
   "cell_type": "markdown",
   "metadata": {},
   "source": [
    "Physical interpretation of each term.\n",
    "\n",
    "Term 3:\n",
    "$$\n",
    "\\underbrace{C_1 \\beta \\mathrm{Re} \\left[\\widehat{p_1}^* \\widehat{p_{1x}} \\right]\n",
    "+ C_2 \\beta \\mathrm{Re} \\left[ \\widehat{p_2}^* \\widehat{p_{2x}} \\right]\n",
    "+ C_3 \\beta \\mathrm{Re} \\left[ \\widehat{p_3}^* \\widehat{p_{3x}} \\right]\n",
    "}_\\text{What is this term physically? Does it integrate to zero over the domain?}\n",
    "$$\n",
    "\n",
    "Term 5 is the kinetic energy component:\n",
    "$$\n",
    "\\frac{H_1}{f_0 H_{tot}}  \\mathrm{Re} \\left[ \\widehat{p_1}^* \\widehat{J(\\nabla _H ^2 p_1,p_1)} \\right] \n",
    "+ \\frac{H_2}{f_0 H_{tot}}  \\mathrm{Re} \\left[ \\widehat{p_2}^* \\widehat{J(\\nabla _H ^2 p_2,p_2)} \\right] \n",
    "+ \\frac{H_3}{f_0 H_{tot}}  \\mathrm{Re} \\left[ \\widehat{p_3}^* \\widehat{J(\\nabla _H ^2 p_3,p_3)} \\right]\n",
    "$$\n",
    "\n",
    "Term 6 is the potential energy component:\n",
    "$$\n",
    "\\frac{f_0}{H_{tot} g'_1} \\mathrm{Re} \\left[ (\\widehat{p_2 - p_1}^*) \\widehat{J(p_1,p_2)} \\right]\n",
    "+ \\frac{f_0}{H_{tot} g'_2} \\mathrm{Re} \\left[ (\\widehat{p_3 - p_2}^*) \\widehat{J(p_2,p_3)} \\right]\n",
    "$$\n",
    "\n",
    "Term 7 includes the wind stress component:\n",
    "$$\n",
    "\\frac{f_0^2}{H_{tot}} \\mathrm{Re} \\left[ \\widehat{p_1}^* \\widehat{w_{ek}} \\right] \n",
    "$$\n",
    "\n",
    "buoyancy component:\n",
    "$$\n",
    "\\frac{f_0^2}{H_{tot}} \\mathrm{Re} \\left[ (\\widehat{p_2 - p_1}^*)  \\widehat{e_1} \\right] \n",
    "$$\n",
    "\n",
    "bottom drag component:\n",
    "$$\n",
    "- \\frac{f_0 \\delta _{ek}}{2 H_{tot}} \\mathrm{Re} \\left[ \\widehat{p_3}^*  \\widehat{\\nabla ^2_H p_3} \\right]\n",
    "$$\n",
    "\n",
    "Term 8 is the dissipation:\n",
    "$$\n",
    "- A_4 \\frac{H_1}{H_{tot}} \\mathrm{Re} \\left[ \\widehat{p_1}^* \\widehat{\\nabla ^6 p_1} \\right]\n",
    "- A_4 \\frac{H_2}{H_{tot}} \\mathrm{Re} \\left[ \\widehat{p_2}^* \\widehat{\\nabla ^6 p_2} \\right]\n",
    "- A_4 \\frac{H_3}{H_{tot}} \\mathrm{Re} \\left[ \\widehat{p_3}^* \\widehat{\\nabla ^6 p_3} \\right]\n",
    "$$\n",
    "\n",
    "To get the correct units of W/m^2, we need to multiply by $f_0^2$."
   ]
  },
  {
   "cell_type": "markdown",
   "metadata": {},
   "source": [
    "## Final Spectral Energy Transfer Equations"
   ]
  },
  {
   "cell_type": "markdown",
   "metadata": {},
   "source": [
    "#### Kinetic Energy Advection\n",
    "$$\n",
    "\\frac{H_1}{f_0^3 H_{tot}}  \\mathrm{Re} \\left[ \\widehat{p_1}^* \\widehat{J(\\nabla _H ^2 p_1,p_1)} \\right] \n",
    "+ \\frac{H_2}{f_0^3 H_{tot}}  \\mathrm{Re} \\left[ \\widehat{p_2}^* \\widehat{J(\\nabla _H ^2 p_2,p_2)} \\right] \n",
    "+ \\frac{H_3}{f_0^3 H_{tot}}  \\mathrm{Re} \\left[ \\widehat{p_3}^* \\widehat{J(\\nabla _H ^2 p_3,p_3)} \\right]\n",
    "$$\n",
    "\n",
    "#### Potential Energy\n",
    "$$\n",
    "\\frac{1}{f_0 H_{tot} g'_1} \\mathrm{Re} \\left[ (\\widehat{p_2 - p_1}^*) \\widehat{J(p_1,p_2)} \\right]\n",
    "+ \\frac{1}{f_0 H_{tot} g'_2} \\mathrm{Re} \\left[ (\\widehat{p_3 - p_2}^*) \\widehat{J(p_2,p_3)} \\right]\n",
    "$$\n",
    "\n",
    "#### Wind Stress\n",
    "$$\n",
    "\\frac{1}{H_{tot}} \\mathrm{Re} \\left[ \\widehat{p_1}^* \\widehat{w_{ek}} \\right] \n",
    "$$\n",
    "\n",
    "#### Buoyancy\n",
    "$$\n",
    "\\frac{1}{H_{tot}} \\mathrm{Re} \\left[ (\\widehat{p_2 - p_1}^*)  \\widehat{e_1} \\right] \n",
    "$$\n",
    "\n",
    "#### Bottom Drag\n",
    "$$\n",
    "- \\frac{\\delta _{ek}}{2 H_{tot} f_0} \\mathrm{Re} \\left[ \\widehat{p_3}^*  \\widehat{\\nabla ^2_H p_3} \\right]\n",
    "$$\n",
    "\n",
    "#### Dissipation\n",
    "$$\n",
    "- A_4 \\frac{H_1}{f_0^2 H_{tot}} \\mathrm{Re} \\left[ \\widehat{p_1}^* \\widehat{\\nabla ^6 p_1} \\right]\n",
    "- A_4 \\frac{H_2}{f_0^2 H_{tot}} \\mathrm{Re} \\left[ \\widehat{p_2}^* \\widehat{\\nabla ^6 p_2} \\right]\n",
    "- A_4 \\frac{H_3}{f_0^2 H_{tot}} \\mathrm{Re} \\left[ \\widehat{p_3}^* \\widehat{\\nabla ^6 p_3} \\right]\n",
    "$$\n",
    "\n",
    "#### ???\n",
    "$$\n",
    "\\underbrace{C_1 \\beta \\mathrm{Re} \\left[\\widehat{p_1}^* \\widehat{p_{1x}} \\right]\n",
    "+ C_2 \\beta \\mathrm{Re} \\left[ \\widehat{p_2}^* \\widehat{p_{2x}} \\right]\n",
    "+ C_3 \\beta \\mathrm{Re} \\left[ \\widehat{p_3}^* \\widehat{p_{3x}} \\right]\n",
    "}_\\text{What is this term physically? Does it integrate to zero over the domain?}\n",
    "$$"
   ]
  },
  {
   "cell_type": "code",
   "execution_count": null,
   "metadata": {
    "collapsed": true
   },
   "outputs": [],
   "source": []
  }
 ],
 "metadata": {
  "kernelspec": {
   "display_name": "Python 3",
   "language": "python",
   "name": "python3"
  },
  "language_info": {
   "codemirror_mode": {
    "name": "ipython",
    "version": 3
   },
   "file_extension": ".py",
   "mimetype": "text/x-python",
   "name": "python",
   "nbconvert_exporter": "python",
   "pygments_lexer": "ipython3",
   "version": "3.6.1"
  }
 },
 "nbformat": 4,
 "nbformat_minor": 2
}
