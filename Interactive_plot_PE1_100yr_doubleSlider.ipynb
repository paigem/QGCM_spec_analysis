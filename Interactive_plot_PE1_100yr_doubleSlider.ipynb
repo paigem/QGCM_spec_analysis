{
 "cells": [
  {
   "cell_type": "code",
   "execution_count": 1,
   "metadata": {},
   "outputs": [],
   "source": [
    "%matplotlib inline\n",
    "\n",
    "import numpy as np\n",
    "from netCDF4 import Dataset\n",
    "import matplotlib.pyplot as plt\n",
    "\n",
    "import ipywidgets\n",
    "from IPython.display import display"
   ]
  },
  {
   "cell_type": "code",
   "execution_count": 2,
   "metadata": {},
   "outputs": [],
   "source": [
    "datapath = '/g/data1/v45/pm2987/Transfer_maps/'\n",
    "datapath2 = '/g/data1/v45/pm2987/SpecTransfers_034_133/'\n",
    "datapath3 = '/g/data1/v45/pm2987/QGCM_avgs/'\n",
    "var = 'PE1'"
   ]
  },
  {
   "cell_type": "markdown",
   "metadata": {},
   "source": [
    "# Define functions used later in the code"
   ]
  },
  {
   "cell_type": "code",
   "execution_count": 3,
   "metadata": {},
   "outputs": [],
   "source": [
    "# Define array used in colorbar limits\n",
    "arr = np.concatenate((np.arange(1,10),np.arange(10,100,10),np.arange(100,1000,100)))\n",
    "\n",
    "# Function to find exponent of a number\n",
    "def fexp(number):\n",
    "    return np.int(np.log10(number))-1\n",
    "\n",
    "# Function to find mantissa of a number\n",
    "def fman(number):\n",
    "    return int(number*(10**(-1*fexp(number))))\n",
    "\n",
    "# Function to plot a given variable with sliders for min and max frequencies, and vmax\n",
    "def plot_section(var, section, w_step_min, w_step_max, vmax, pcontour, hcontour):\n",
    "    plt.figure(figsize=(12,8))\n",
    "    \n",
    "    # Take average of transfer\n",
    "    if w_step_min == w_step_max: # plot single snapshot if min and max equal\n",
    "        var_avg = var[:,:,w_step_min]\n",
    "    else:\n",
    "        var_avg = np.sum(var[:,:,w_step_min:w_step_max+1],axis=2)/(w_step_max-w_step_min+1)\n",
    "    \n",
    "    # Plot 2d transfer\n",
    "    plt.imshow(var_avg, vmin=-vmax, vmax=vmax, cmap='bwr')\n",
    "    plt.gca().invert_yaxis()  \n",
    "    plt.xlabel('x')\n",
    "    plt.ylabel('y')\n",
    "    plt.colorbar()\n",
    "    #plt.plot(898,898,'ro')\n",
    "\n",
    "    # Overlay a contour\n",
    "    if pcontour:\n",
    "        CS = plt.contour(p_avg,20,colors='k',alpha=0.7)\n",
    "        plt.clabel(CS, inline=1)\n",
    "    if hcontour:\n",
    "        CS = plt.contour(h_avg,20,colors='grey',alpha=0.8)\n",
    "        plt.clabel(CS, inline=1)\n",
    "    \n",
    "    # Plot 1d freq-domain transfer\n",
    "    plt.figure(figsize=(8,6))\n",
    "    freq = (2./(100*365))*np.arange(0,np.floor(100*365.0/2)+1)\n",
    "    plt.semilogx(freq,T,color='b')\n",
    "    \n",
    "    # Plot circles indicating averaging range\n",
    "    plt.plot(freq[200*(section-1)+w_step_min],T[200*(section-1)+w_step_min],'mo')\n",
    "    plt.plot(freq[200*(section-1)+w_step_max],T[200*(section-1)+w_step_max],'mo')\n",
    "    \n",
    "    # Plot shaded area between min and max\n",
    "    plt.fill_betweenx(np.linspace(np.min(T),np.max(T),num=500), \n",
    "                      freq[200*(section-1)+w_step_min], freq[200*(section-1)+w_step_max], \n",
    "                      facecolor='magenta', alpha=0.5)\n",
    "    \n",
    "    plt.axhline(0,color='k',linestyle='dotted')\n",
    "    plt.xlim(freq[1],freq[-1])\n",
    "    plt.ylim(np.min(T),np.max(T))  \n",
    "    plt.show()"
   ]
  },
  {
   "cell_type": "markdown",
   "metadata": {},
   "source": [
    "# Import spatially averaged transfer and time-averaged p,h"
   ]
  },
  {
   "cell_type": "code",
   "execution_count": 4,
   "metadata": {},
   "outputs": [
    {
     "name": "stdout",
     "output_type": "stream",
     "text": [
      "(18251,)\n",
      "(961, 961)\n"
     ]
    }
   ],
   "source": [
    "T = np.load(datapath2+var+'_oc_034_133_2cellmask.npy')\n",
    "print(T.shape)\n",
    "\n",
    "# Import time-average pressure\n",
    "p_avg = np.load(datapath3+'p_timeAvg_059_108.npy')\n",
    "h_avg = np.load(datapath3+'h_timeAvg_059_108.npy')\n",
    "print(p_avg.shape)"
   ]
  },
  {
   "cell_type": "markdown",
   "metadata": {},
   "source": [
    "# Import map1"
   ]
  },
  {
   "cell_type": "code",
   "execution_count": 5,
   "metadata": {},
   "outputs": [
    {
     "name": "stdout",
     "output_type": "stream",
     "text": [
      "(957, 957, 200)\n"
     ]
    }
   ],
   "source": [
    "data = Dataset(datapath+var+'_map1_034_133.nc')\n",
    "var1 = data.variables[var]\n",
    "print(var1.shape)"
   ]
  },
  {
   "cell_type": "markdown",
   "metadata": {},
   "source": [
    "## Interactive plot of map1"
   ]
  },
  {
   "cell_type": "code",
   "execution_count": 7,
   "metadata": {},
   "outputs": [
    {
     "name": "stdout",
     "output_type": "stream",
     "text": [
      "2.05063e-10 -10\n"
     ]
    },
    {
     "data": {
      "application/vnd.jupyter.widget-view+json": {
       "model_id": "fa6f67e9b4a24cbbb89f7a3a91adf56a",
       "version_major": 2,
       "version_minor": 0
      },
      "text/html": [
       "<p>Failed to display Jupyter Widget of type <code>interactive</code>.</p>\n",
       "<p>\n",
       "  If you're reading this message in the Jupyter Notebook or JupyterLab Notebook, it may mean\n",
       "  that the widgets JavaScript is still loading. If this message persists, it\n",
       "  likely means that the widgets JavaScript library is either not installed or\n",
       "  not enabled. See the <a href=\"https://ipywidgets.readthedocs.io/en/stable/user_install.html\">Jupyter\n",
       "  Widgets Documentation</a> for setup instructions.\n",
       "</p>\n",
       "<p>\n",
       "  If you're reading this message in another frontend (for example, a static\n",
       "  rendering on GitHub or <a href=\"https://nbviewer.jupyter.org/\">NBViewer</a>),\n",
       "  it may mean that your frontend doesn't currently support widgets.\n",
       "</p>\n"
      ],
      "text/plain": [
       "interactive(children=(IntSlider(value=0, description='w_step_min', layout=Layout(width='80%'), max=199), IntSlider(value=199, description='w_step_max', layout=Layout(width='80%'), max=199), SelectionSlider(description='vmax', index=9, layout=Layout(width='60%'), options=(('1e-13', 1e-13), ('2e-13', 2.0000000000000001e-13), ('3e-13', 3.0000000000000003e-13), ('4e-13', 4.0000000000000001e-13), ('5e-13', 4.9999999999999999e-13), ('6e-13', 6.0000000000000007e-13), ('7e-13', 7.0000000000000005e-13), ('8e-13', 8.0000000000000002e-13), ('9e-13', 9e-13), ('1e-12', 9.9999999999999998e-13), ('2e-12', 2e-12), ('3e-12', 3.0000000000000001e-12), ('4e-12', 3.9999999999999999e-12), ('5e-12', 5.0000000000000005e-12), ('6e-12', 6.0000000000000003e-12), ('7e-12', 7.0000000000000001e-12), ('8e-12', 7.9999999999999998e-12), ('9e-12', 8.9999999999999996e-12), ('1e-11', 1.0000000000000001e-11), ('2e-11', 2.0000000000000002e-11), ('3e-11', 3e-11), ('4e-11', 4.0000000000000004e-11), ('5e-11', 5.0000000000000002e-11), ('6e-11', 6e-11), ('7e-11', 7.0000000000000004e-11), ('8e-11', 8.0000000000000008e-11), ('9e-11', 8.9999999999999999e-11)), value=9.9999999999999998e-13), Checkbox(value=False, description='Pressure contours (black)'), Checkbox(value=False, description='Interface contours (grey)'), Button(description='Run Interact', style=ButtonStyle()), Output()), _dom_classes=('widget-interact',))"
      ]
     },
     "metadata": {},
     "output_type": "display_data"
    },
    {
     "data": {
      "text/plain": [
       "<function __main__.plot_section>"
      ]
     },
     "execution_count": 7,
     "metadata": {},
     "output_type": "execute_result"
    }
   ],
   "source": [
    "# Define maximum value for plotting bounds\n",
    "vmax = np.max(np.max(np.max(var1)))\n",
    "values=[i*10**(fexp(vmax)-3) for i in arr]\n",
    "print(vmax,fexp(vmax))\n",
    "\n",
    "ipywidgets.interact_manual(plot_section, var=ipywidgets.fixed(var1), section=ipywidgets.fixed(1),\n",
    "                                     w_step_min=ipywidgets.IntSlider(\n",
    "                                               min=0,\n",
    "                                               max=199,\n",
    "                                               step=1,\n",
    "                                               layout=ipywidgets.Layout(width='80%')),\n",
    "                                      w_step_max=ipywidgets.IntSlider(\n",
    "                                               min=0,\n",
    "                                               max=199,\n",
    "                                               step=1,\n",
    "                                               value=199,\n",
    "                                               layout=ipywidgets.Layout(width='80%')),\n",
    "                                      vmax=ipywidgets.SelectionSlider(\n",
    "                                               options=[(\"%g\"%i,i) for i in values],\n",
    "                                               value=values[9],\n",
    "                                               layout=ipywidgets.Layout(width='60%')), \n",
    "                                      pcontour=ipywidgets.Checkbox(\n",
    "                                                value=False,\n",
    "                                                description='Pressure contours (black)',\n",
    "                                                disabled=False),\n",
    "                                      hcontour=ipywidgets.Checkbox(\n",
    "                                                value=False,\n",
    "                                                description='Interface contours (grey)',\n",
    "                                                disabled=False))  "
   ]
  },
  {
   "cell_type": "markdown",
   "metadata": {},
   "source": [
    "# Import map2"
   ]
  },
  {
   "cell_type": "code",
   "execution_count": 19,
   "metadata": {},
   "outputs": [
    {
     "name": "stdout",
     "output_type": "stream",
     "text": [
      "(957, 957, 200)\n"
     ]
    }
   ],
   "source": [
    "data = Dataset(datapath+var+'_map2_034_133.nc')\n",
    "var2 = data.variables[var]\n",
    "print(var2.shape)"
   ]
  },
  {
   "cell_type": "markdown",
   "metadata": {},
   "source": [
    "## Interactive plot of map2"
   ]
  },
  {
   "cell_type": "code",
   "execution_count": 20,
   "metadata": {
    "scrolled": false
   },
   "outputs": [
    {
     "name": "stdout",
     "output_type": "stream",
     "text": [
      "1.94076e-10 -10\n"
     ]
    },
    {
     "data": {
      "application/vnd.jupyter.widget-view+json": {
       "model_id": "651826bcc7b643eda149702b6daa1e38",
       "version_major": 2,
       "version_minor": 0
      },
      "text/html": [
       "<p>Failed to display Jupyter Widget of type <code>interactive</code>.</p>\n",
       "<p>\n",
       "  If you're reading this message in the Jupyter Notebook or JupyterLab Notebook, it may mean\n",
       "  that the widgets JavaScript is still loading. If this message persists, it\n",
       "  likely means that the widgets JavaScript library is either not installed or\n",
       "  not enabled. See the <a href=\"https://ipywidgets.readthedocs.io/en/stable/user_install.html\">Jupyter\n",
       "  Widgets Documentation</a> for setup instructions.\n",
       "</p>\n",
       "<p>\n",
       "  If you're reading this message in another frontend (for example, a static\n",
       "  rendering on GitHub or <a href=\"https://nbviewer.jupyter.org/\">NBViewer</a>),\n",
       "  it may mean that your frontend doesn't currently support widgets.\n",
       "</p>\n"
      ],
      "text/plain": [
       "interactive(children=(IntSlider(value=0, description='w_step_min', layout=Layout(width='80%'), max=199), IntSlider(value=199, description='w_step_max', layout=Layout(width='80%'), max=199), SelectionSlider(description='vmax', index=9, layout=Layout(width='60%'), options=(('1e-13', 1e-13), ('2e-13', 2.0000000000000001e-13), ('3e-13', 3.0000000000000003e-13), ('4e-13', 4.0000000000000001e-13), ('5e-13', 4.9999999999999999e-13), ('6e-13', 6.0000000000000007e-13), ('7e-13', 7.0000000000000005e-13), ('8e-13', 8.0000000000000002e-13), ('9e-13', 9e-13), ('1e-12', 9.9999999999999998e-13), ('2e-12', 2e-12), ('3e-12', 3.0000000000000001e-12), ('4e-12', 3.9999999999999999e-12), ('5e-12', 5.0000000000000005e-12), ('6e-12', 6.0000000000000003e-12), ('7e-12', 7.0000000000000001e-12), ('8e-12', 7.9999999999999998e-12), ('9e-12', 8.9999999999999996e-12), ('1e-11', 1.0000000000000001e-11), ('2e-11', 2.0000000000000002e-11), ('3e-11', 3e-11), ('4e-11', 4.0000000000000004e-11), ('5e-11', 5.0000000000000002e-11), ('6e-11', 6e-11), ('7e-11', 7.0000000000000004e-11), ('8e-11', 8.0000000000000008e-11), ('9e-11', 8.9999999999999999e-11)), value=9.9999999999999998e-13), Checkbox(value=False, description='Pressure contours (black)'), Checkbox(value=False, description='Interface contours (grey)'), Button(description='Run Interact', style=ButtonStyle()), Output()), _dom_classes=('widget-interact',))"
      ]
     },
     "metadata": {},
     "output_type": "display_data"
    },
    {
     "data": {
      "text/plain": [
       "<function __main__.plot_section>"
      ]
     },
     "execution_count": 20,
     "metadata": {},
     "output_type": "execute_result"
    }
   ],
   "source": [
    "# Define maximum value for plotting bounds\n",
    "vmax = np.max(np.max(np.max(var2)))\n",
    "values=[i*10**(fexp(vmax)-3) for i in arr]\n",
    "print(vmax,fexp(vmax))\n",
    "\n",
    "ipywidgets.interact_manual(plot_section, var=ipywidgets.fixed(var2), section=ipywidgets.fixed(2),\n",
    "                                     w_step_min=ipywidgets.IntSlider(\n",
    "                                               min=0,\n",
    "                                               max=199,\n",
    "                                               step=1,\n",
    "                                               layout=ipywidgets.Layout(width='80%')),\n",
    "                                      w_step_max=ipywidgets.IntSlider(\n",
    "                                               min=0,\n",
    "                                               max=199,\n",
    "                                               step=1,\n",
    "                                               value=199,\n",
    "                                               layout=ipywidgets.Layout(width='80%')),\n",
    "                                      vmax=ipywidgets.SelectionSlider(\n",
    "                                               options=[(\"%g\"%i,i) for i in values],\n",
    "                                               value=values[9],\n",
    "                                               layout=ipywidgets.Layout(width='60%')), \n",
    "                                      pcontour=ipywidgets.Checkbox(\n",
    "                                                value=False,\n",
    "                                                description='Pressure contours (black)',\n",
    "                                                disabled=False),\n",
    "                                      hcontour=ipywidgets.Checkbox(\n",
    "                                                value=False,\n",
    "                                                description='Interface contours (grey)',\n",
    "                                                disabled=False))    "
   ]
  },
  {
   "cell_type": "markdown",
   "metadata": {},
   "source": [
    "# Import map3"
   ]
  },
  {
   "cell_type": "code",
   "execution_count": null,
   "metadata": {},
   "outputs": [],
   "source": [
    "data = Dataset(datapath+var+'_map3_034_133.nc')\n",
    "var3 = data.variables[var]\n",
    "print(var3.shape)"
   ]
  },
  {
   "cell_type": "markdown",
   "metadata": {},
   "source": [
    "## Interactive plot of map3"
   ]
  },
  {
   "cell_type": "code",
   "execution_count": null,
   "metadata": {
    "scrolled": false
   },
   "outputs": [],
   "source": [
    "# Define maximum value for plotting bounds\n",
    "vmax = np.max(np.max(np.max(var3)))\n",
    "values=[i*10**(fexp(vmax)-3) for i in arr]\n",
    "print(vmax,fexp(vmax))\n",
    "\n",
    "ipywidgets.interact_manual(plot_section, var=ipywidgets.fixed(var3), section=ipywidgets.fixed(3),\n",
    "                                     w_step_min=ipywidgets.IntSlider(\n",
    "                                               min=0,\n",
    "                                               max=199,\n",
    "                                               step=1,\n",
    "                                               layout=ipywidgets.Layout(width='80%')),\n",
    "                                      w_step_max=ipywidgets.IntSlider(\n",
    "                                               min=0,\n",
    "                                               max=199,\n",
    "                                               step=1,\n",
    "                                               value=199,\n",
    "                                               layout=ipywidgets.Layout(width='80%')),\n",
    "                                      vmax=ipywidgets.SelectionSlider(\n",
    "                                               options=[(\"%g\"%i,i) for i in values],\n",
    "                                               value=values[9],\n",
    "                                               layout=ipywidgets.Layout(width='60%')), \n",
    "                                      pcontour=ipywidgets.Checkbox(\n",
    "                                                value=False,\n",
    "                                                description='Pressure contours (black)',\n",
    "                                                disabled=False),\n",
    "                                      hcontour=ipywidgets.Checkbox(\n",
    "                                                value=False,\n",
    "                                                description='Interface contours (grey)',\n",
    "                                                disabled=False))    "
   ]
  },
  {
   "cell_type": "markdown",
   "metadata": {},
   "source": [
    "# Import map5"
   ]
  },
  {
   "cell_type": "code",
   "execution_count": 13,
   "metadata": {},
   "outputs": [
    {
     "name": "stdout",
     "output_type": "stream",
     "text": [
      "(957, 957, 200)\n"
     ]
    }
   ],
   "source": [
    "data = Dataset(datapath+var+'_map5_034_133.nc')\n",
    "var5 = data.variables[var]\n",
    "print(var5.shape)"
   ]
  },
  {
   "cell_type": "markdown",
   "metadata": {},
   "source": [
    "## Interactive plot of map5"
   ]
  },
  {
   "cell_type": "code",
   "execution_count": 15,
   "metadata": {
    "scrolled": false
   },
   "outputs": [
    {
     "name": "stdout",
     "output_type": "stream",
     "text": [
      "8.98702e-11 -11\n"
     ]
    },
    {
     "data": {
      "application/vnd.jupyter.widget-view+json": {
       "model_id": "1937d6ec9686440ea48432b7471975e2",
       "version_major": 2,
       "version_minor": 0
      },
      "text/html": [
       "<p>Failed to display Jupyter Widget of type <code>interactive</code>.</p>\n",
       "<p>\n",
       "  If you're reading this message in the Jupyter Notebook or JupyterLab Notebook, it may mean\n",
       "  that the widgets JavaScript is still loading. If this message persists, it\n",
       "  likely means that the widgets JavaScript library is either not installed or\n",
       "  not enabled. See the <a href=\"https://ipywidgets.readthedocs.io/en/stable/user_install.html\">Jupyter\n",
       "  Widgets Documentation</a> for setup instructions.\n",
       "</p>\n",
       "<p>\n",
       "  If you're reading this message in another frontend (for example, a static\n",
       "  rendering on GitHub or <a href=\"https://nbviewer.jupyter.org/\">NBViewer</a>),\n",
       "  it may mean that your frontend doesn't currently support widgets.\n",
       "</p>\n"
      ],
      "text/plain": [
       "interactive(children=(IntSlider(value=0, description='w_step_min', layout=Layout(width='80%'), max=199), IntSlider(value=199, description='w_step_max', layout=Layout(width='80%'), max=199), SelectionSlider(description='vmax', layout=Layout(width='60%'), options=(('1e-14', 1e-14), ('2e-14', 2e-14), ('3e-14', 2.9999999999999998e-14), ('4e-14', 4e-14), ('5e-14', 5.0000000000000002e-14), ('6e-14', 5.9999999999999997e-14), ('7e-14', 7.0000000000000005e-14), ('8e-14', 8e-14), ('9e-14', 8.9999999999999995e-14), ('1e-13', 1e-13), ('2e-13', 2.0000000000000001e-13), ('3e-13', 2.9999999999999998e-13), ('4e-13', 4.0000000000000001e-13), ('5e-13', 4.9999999999999999e-13), ('6e-13', 5.9999999999999997e-13), ('7e-13', 7.0000000000000005e-13), ('8e-13', 8.0000000000000002e-13), ('9e-13', 9e-13), ('1e-12', 9.9999999999999998e-13), ('2e-12', 2e-12), ('3e-12', 3.0000000000000001e-12), ('4e-12', 3.9999999999999999e-12), ('5e-12', 4.9999999999999997e-12), ('6e-12', 6.0000000000000003e-12), ('7e-12', 7.0000000000000001e-12), ('8e-12', 7.9999999999999998e-12), ('9e-12', 8.9999999999999996e-12)), value=1e-14), Checkbox(value=False, description='Pressure contours (black)'), Checkbox(value=False, description='Interface contours (grey)'), Button(description='Run Interact', style=ButtonStyle()), Output()), _dom_classes=('widget-interact',))"
      ]
     },
     "metadata": {},
     "output_type": "display_data"
    },
    {
     "data": {
      "text/plain": [
       "<function __main__.plot_section>"
      ]
     },
     "execution_count": 15,
     "metadata": {},
     "output_type": "execute_result"
    }
   ],
   "source": [
    "# Define maximum value for plotting bounds\n",
    "vmax = np.max(np.max(np.max(var5)))\n",
    "values=[i*10**(fexp(vmax)-3) for i in arr]\n",
    "print(vmax,fexp(vmax))\n",
    "\n",
    "ipywidgets.interact_manual(plot_section, var=ipywidgets.fixed(var5), section=ipywidgets.fixed(5),\n",
    "                                     w_step_min=ipywidgets.IntSlider(\n",
    "                                               min=0,\n",
    "                                               max=199,\n",
    "                                               step=1,\n",
    "                                               layout=ipywidgets.Layout(width='80%')),\n",
    "                                      w_step_max=ipywidgets.IntSlider(\n",
    "                                               min=0,\n",
    "                                               max=199,\n",
    "                                               step=1,\n",
    "                                               value=199,\n",
    "                                               layout=ipywidgets.Layout(width='80%')),\n",
    "                                      vmax=ipywidgets.SelectionSlider(\n",
    "                                               options=[(\"%g\"%i,i) for i in values],\n",
    "                                               value=values[9],\n",
    "                                               layout=ipywidgets.Layout(width='60%')), \n",
    "                                      pcontour=ipywidgets.Checkbox(\n",
    "                                                value=False,\n",
    "                                                description='Pressure contours (black)',\n",
    "                                                disabled=False),\n",
    "                                      hcontour=ipywidgets.Checkbox(\n",
    "                                                value=False,\n",
    "                                                description='Interface contours (grey)',\n",
    "                                                disabled=False))  "
   ]
  },
  {
   "cell_type": "code",
   "execution_count": null,
   "metadata": {},
   "outputs": [],
   "source": []
  }
 ],
 "metadata": {
  "kernelspec": {
   "display_name": "Python [default]",
   "language": "python",
   "name": "python3"
  },
  "language_info": {
   "codemirror_mode": {
    "name": "ipython",
    "version": 3
   },
   "file_extension": ".py",
   "mimetype": "text/x-python",
   "name": "python",
   "nbconvert_exporter": "python",
   "pygments_lexer": "ipython3",
   "version": "3.6.4"
  }
 },
 "nbformat": 4,
 "nbformat_minor": 2
}
